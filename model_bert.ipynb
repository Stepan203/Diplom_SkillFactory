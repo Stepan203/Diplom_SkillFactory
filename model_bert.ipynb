{
  "metadata": {
    "kernelspec": {
      "language": "python",
      "display_name": "Python 3",
      "name": "python3"
    },
    "language_info": {
      "name": "python",
      "version": "3.7.12",
      "mimetype": "text/x-python",
      "codemirror_mode": {
        "name": "ipython",
        "version": 3
      },
      "pygments_lexer": "ipython3",
      "nbconvert_exporter": "python",
      "file_extension": ".py"
    },
    "colab": {
      "name": "model-bert.ipynb",
      "provenance": []
    }
  },
  "nbformat_minor": 0,
  "nbformat": 4,
  "cells": [
    {
      "cell_type": "code",
      "source": [
        "!pip install pymorphy2\n",
        "!pip install fasttext\n",
        "!pip install transformers"
      ],
      "metadata": {
        "papermill": {
          "duration": 12.700286,
          "end_time": "2022-06-25T21:33:36.062922",
          "exception": false,
          "start_time": "2022-06-25T21:33:23.362636",
          "status": "completed"
        },
        "tags": [],
        "execution": {
          "iopub.status.busy": "2022-07-12T10:43:08.197421Z",
          "iopub.execute_input": "2022-07-12T10:43:08.197900Z",
          "iopub.status.idle": "2022-07-12T10:43:23.936496Z",
          "shell.execute_reply.started": "2022-07-12T10:43:08.197797Z",
          "shell.execute_reply": "2022-07-12T10:43:23.935376Z"
        },
        "trusted": true,
        "colab": {
          "base_uri": "https://localhost:8080/"
        },
        "id": "cs1mNkj1JKGH",
        "outputId": "c76893a6-ba38-4669-9bed-c2be0e7b1c56"
      },
      "execution_count": 3,
      "outputs": [
        {
          "output_type": "stream",
          "name": "stdout",
          "text": [
            "Looking in indexes: https://pypi.org/simple, https://us-python.pkg.dev/colab-wheels/public/simple/\n",
            "Requirement already satisfied: pymorphy2 in /usr/local/lib/python3.7/dist-packages (0.9.1)\n",
            "Requirement already satisfied: dawg-python>=0.7.1 in /usr/local/lib/python3.7/dist-packages (from pymorphy2) (0.7.2)\n",
            "Requirement already satisfied: docopt>=0.6 in /usr/local/lib/python3.7/dist-packages (from pymorphy2) (0.6.2)\n",
            "Requirement already satisfied: pymorphy2-dicts-ru<3.0,>=2.4 in /usr/local/lib/python3.7/dist-packages (from pymorphy2) (2.4.417127.4579844)\n",
            "Looking in indexes: https://pypi.org/simple, https://us-python.pkg.dev/colab-wheels/public/simple/\n",
            "Collecting transformers\n",
            "  Downloading transformers-4.20.1-py3-none-any.whl (4.4 MB)\n",
            "\u001b[K     |████████████████████████████████| 4.4 MB 29.6 MB/s \n",
            "\u001b[?25hRequirement already satisfied: filelock in /usr/local/lib/python3.7/dist-packages (from transformers) (3.7.1)\n",
            "Collecting pyyaml>=5.1\n",
            "  Downloading PyYAML-6.0-cp37-cp37m-manylinux_2_5_x86_64.manylinux1_x86_64.manylinux_2_12_x86_64.manylinux2010_x86_64.whl (596 kB)\n",
            "\u001b[K     |████████████████████████████████| 596 kB 59.8 MB/s \n",
            "\u001b[?25hRequirement already satisfied: requests in /usr/local/lib/python3.7/dist-packages (from transformers) (2.23.0)\n",
            "Requirement already satisfied: importlib-metadata in /usr/local/lib/python3.7/dist-packages (from transformers) (4.12.0)\n",
            "Collecting huggingface-hub<1.0,>=0.1.0\n",
            "  Downloading huggingface_hub-0.8.1-py3-none-any.whl (101 kB)\n",
            "\u001b[K     |████████████████████████████████| 101 kB 13.1 MB/s \n",
            "\u001b[?25hRequirement already satisfied: regex!=2019.12.17 in /usr/local/lib/python3.7/dist-packages (from transformers) (2022.6.2)\n",
            "Requirement already satisfied: tqdm>=4.27 in /usr/local/lib/python3.7/dist-packages (from transformers) (4.64.0)\n",
            "Requirement already satisfied: packaging>=20.0 in /usr/local/lib/python3.7/dist-packages (from transformers) (21.3)\n",
            "Requirement already satisfied: numpy>=1.17 in /usr/local/lib/python3.7/dist-packages (from transformers) (1.21.6)\n",
            "Collecting tokenizers!=0.11.3,<0.13,>=0.11.1\n",
            "  Downloading tokenizers-0.12.1-cp37-cp37m-manylinux_2_12_x86_64.manylinux2010_x86_64.whl (6.6 MB)\n",
            "\u001b[K     |████████████████████████████████| 6.6 MB 55.7 MB/s \n",
            "\u001b[?25hRequirement already satisfied: typing-extensions>=3.7.4.3 in /usr/local/lib/python3.7/dist-packages (from huggingface-hub<1.0,>=0.1.0->transformers) (4.1.1)\n",
            "Requirement already satisfied: pyparsing!=3.0.5,>=2.0.2 in /usr/local/lib/python3.7/dist-packages (from packaging>=20.0->transformers) (3.0.9)\n",
            "Requirement already satisfied: zipp>=0.5 in /usr/local/lib/python3.7/dist-packages (from importlib-metadata->transformers) (3.8.0)\n",
            "Requirement already satisfied: chardet<4,>=3.0.2 in /usr/local/lib/python3.7/dist-packages (from requests->transformers) (3.0.4)\n",
            "Requirement already satisfied: urllib3!=1.25.0,!=1.25.1,<1.26,>=1.21.1 in /usr/local/lib/python3.7/dist-packages (from requests->transformers) (1.24.3)\n",
            "Requirement already satisfied: certifi>=2017.4.17 in /usr/local/lib/python3.7/dist-packages (from requests->transformers) (2022.6.15)\n",
            "Requirement already satisfied: idna<3,>=2.5 in /usr/local/lib/python3.7/dist-packages (from requests->transformers) (2.10)\n",
            "Installing collected packages: pyyaml, tokenizers, huggingface-hub, transformers\n",
            "  Attempting uninstall: pyyaml\n",
            "    Found existing installation: PyYAML 3.13\n",
            "    Uninstalling PyYAML-3.13:\n",
            "      Successfully uninstalled PyYAML-3.13\n",
            "Successfully installed huggingface-hub-0.8.1 pyyaml-6.0 tokenizers-0.12.1 transformers-4.20.1\n"
          ]
        }
      ]
    },
    {
      "cell_type": "code",
      "source": [
        "import numpy as np\n",
        "import pandas as pd\n",
        "import re\n",
        "from wordcloud import WordCloud\n",
        "\n",
        "import nltk\n",
        "from nltk.corpus import stopwords\n",
        "nltk.download('stopwords')\n",
        "stopwords_ru = stopwords.words(\"russian\")\n",
        "from nltk.stem import WordNetLemmatizer\n",
        "import pymorphy2\n",
        "from matplotlib import pyplot\n",
        "import matplotlib.pyplot as plt\n",
        "from sklearn import metrics\n",
        "from sklearn.metrics import accuracy_score, precision_recall_fscore_support, classification_report, f1_score\n",
        "import transformers\n",
        "import torch\n",
        "import tensorflow as tf\n",
        "from tqdm.notebook import tqdm\n",
        "from sklearn.model_selection import train_test_split\n",
        "#from torch.utils.data import Dataset, DataLoader, RandomSampler, SequentialSampler\n",
        "#from transformers import BertTokenizer, BertModel, BertConfig\n",
        "\n",
        "import transformers\n",
        "from transformers import DistilBertTokenizer\n",
        "from transformers import DistilBertModel, DistilBertConfig\n",
        "from transformers import TFDistilBertForSequenceClassification\n",
        "import tensorflow as tf\n",
        "import json\n",
        "import gc"
      ],
      "metadata": {
        "papermill": {
          "duration": 2.007525,
          "end_time": "2022-06-25T21:33:38.077176",
          "exception": false,
          "start_time": "2022-06-25T21:33:36.069651",
          "status": "completed"
        },
        "tags": [],
        "execution": {
          "iopub.status.busy": "2022-07-12T10:43:23.938997Z",
          "iopub.execute_input": "2022-07-12T10:43:23.939379Z",
          "iopub.status.idle": "2022-07-12T10:43:38.610146Z",
          "shell.execute_reply.started": "2022-07-12T10:43:23.939342Z",
          "shell.execute_reply": "2022-07-12T10:43:38.608733Z"
        },
        "trusted": true,
        "colab": {
          "base_uri": "https://localhost:8080/"
        },
        "id": "2ykLGa_MJKGN",
        "outputId": "311328ab-e6cf-4ef7-f898-3f4ffc3f7f8f"
      },
      "execution_count": 4,
      "outputs": [
        {
          "output_type": "stream",
          "name": "stderr",
          "text": [
            "[nltk_data] Downloading package stopwords to /root/nltk_data...\n",
            "[nltk_data]   Package stopwords is already up-to-date!\n"
          ]
        }
      ]
    },
    {
      "cell_type": "code",
      "source": [
        "!gdown --id 16PkXbMaFEZQjV_bCGgq9n_R5ZQq1V1bp\n",
        "!gdown --id 16TlUyn7u7-LVGVmMW9LS0fpD6oQqmtg5\n",
        "#train = pd.read_csv('../input/scan-classification-challange/df_train.csv')\n",
        "train = pd.read_csv('df_train.csv')\n",
        "#test = pd.read_csv('../input/scan-classification-challange/df_test.csv', index_col=0)\n",
        "test = pd.read_csv('df_test.csv')\n",
        "train.drop_duplicates(subset={'text'}, inplace=True) \n",
        "train.sample(3)"
      ],
      "metadata": {
        "papermill": {
          "duration": 0.684804,
          "end_time": "2022-06-25T21:33:38.768447",
          "exception": false,
          "start_time": "2022-06-25T21:33:38.083643",
          "status": "completed"
        },
        "tags": [],
        "execution": {
          "iopub.status.busy": "2022-07-12T10:44:47.055056Z",
          "iopub.execute_input": "2022-07-12T10:44:47.055498Z",
          "iopub.status.idle": "2022-07-12T10:44:47.826912Z",
          "shell.execute_reply.started": "2022-07-12T10:44:47.055460Z",
          "shell.execute_reply": "2022-07-12T10:44:47.825606Z"
        },
        "trusted": true,
        "colab": {
          "base_uri": "https://localhost:8080/",
          "height": 352
        },
        "id": "leyV1Nk-JKGP",
        "outputId": "2b56cd9c-049f-4d26-beeb-0c31e05e6249"
      },
      "execution_count": 6,
      "outputs": [
        {
          "output_type": "stream",
          "name": "stdout",
          "text": [
            "/usr/local/lib/python3.7/dist-packages/gdown/cli.py:131: FutureWarning: Option `--id` was deprecated in version 4.3.1 and will be removed in 5.0. You don't need to pass it anymore to use a file ID.\n",
            "  category=FutureWarning,\n",
            "Downloading...\n",
            "From: https://drive.google.com/uc?id=16PkXbMaFEZQjV_bCGgq9n_R5ZQq1V1bp\n",
            "To: /content/df_train.csv\n",
            "100% 16.7M/16.7M [00:00<00:00, 234MB/s]\n",
            "/usr/local/lib/python3.7/dist-packages/gdown/cli.py:131: FutureWarning: Option `--id` was deprecated in version 4.3.1 and will be removed in 5.0. You don't need to pass it anymore to use a file ID.\n",
            "  category=FutureWarning,\n",
            "Downloading...\n",
            "From: https://drive.google.com/uc?id=16TlUyn7u7-LVGVmMW9LS0fpD6oQqmtg5\n",
            "To: /content/df_test.csv\n",
            "100% 11.0M/11.0M [00:00<00:00, 163MB/s]\n"
          ]
        },
        {
          "output_type": "execute_result",
          "data": {
            "text/plain": [
              "                                                    text  \\\n",
              "46036  Пятерых обвиняемых - Хасана Тунджа, Айше Сегют...   \n",
              "9763   Вот цитата из телефонного разговора Марины Бар...   \n",
              "10703  Несчастный случай произошел в г. Лесной Свердл...   \n",
              "\n",
              "                                                  class  \n",
              "46036                               Уголовное обвинение  \n",
              "9763                                                  O  \n",
              "10703  Чрезвычайные происшествия, чрезвычайные ситуации  "
            ],
            "text/html": [
              "\n",
              "  <div id=\"df-ad1f3a30-6f71-49e1-8f9d-41e060ef5efe\">\n",
              "    <div class=\"colab-df-container\">\n",
              "      <div>\n",
              "<style scoped>\n",
              "    .dataframe tbody tr th:only-of-type {\n",
              "        vertical-align: middle;\n",
              "    }\n",
              "\n",
              "    .dataframe tbody tr th {\n",
              "        vertical-align: top;\n",
              "    }\n",
              "\n",
              "    .dataframe thead th {\n",
              "        text-align: right;\n",
              "    }\n",
              "</style>\n",
              "<table border=\"1\" class=\"dataframe\">\n",
              "  <thead>\n",
              "    <tr style=\"text-align: right;\">\n",
              "      <th></th>\n",
              "      <th>text</th>\n",
              "      <th>class</th>\n",
              "    </tr>\n",
              "  </thead>\n",
              "  <tbody>\n",
              "    <tr>\n",
              "      <th>46036</th>\n",
              "      <td>Пятерых обвиняемых - Хасана Тунджа, Айше Сегют...</td>\n",
              "      <td>Уголовное обвинение</td>\n",
              "    </tr>\n",
              "    <tr>\n",
              "      <th>9763</th>\n",
              "      <td>Вот цитата из телефонного разговора Марины Бар...</td>\n",
              "      <td>O</td>\n",
              "    </tr>\n",
              "    <tr>\n",
              "      <th>10703</th>\n",
              "      <td>Несчастный случай произошел в г. Лесной Свердл...</td>\n",
              "      <td>Чрезвычайные происшествия, чрезвычайные ситуации</td>\n",
              "    </tr>\n",
              "  </tbody>\n",
              "</table>\n",
              "</div>\n",
              "      <button class=\"colab-df-convert\" onclick=\"convertToInteractive('df-ad1f3a30-6f71-49e1-8f9d-41e060ef5efe')\"\n",
              "              title=\"Convert this dataframe to an interactive table.\"\n",
              "              style=\"display:none;\">\n",
              "        \n",
              "  <svg xmlns=\"http://www.w3.org/2000/svg\" height=\"24px\"viewBox=\"0 0 24 24\"\n",
              "       width=\"24px\">\n",
              "    <path d=\"M0 0h24v24H0V0z\" fill=\"none\"/>\n",
              "    <path d=\"M18.56 5.44l.94 2.06.94-2.06 2.06-.94-2.06-.94-.94-2.06-.94 2.06-2.06.94zm-11 1L8.5 8.5l.94-2.06 2.06-.94-2.06-.94L8.5 2.5l-.94 2.06-2.06.94zm10 10l.94 2.06.94-2.06 2.06-.94-2.06-.94-.94-2.06-.94 2.06-2.06.94z\"/><path d=\"M17.41 7.96l-1.37-1.37c-.4-.4-.92-.59-1.43-.59-.52 0-1.04.2-1.43.59L10.3 9.45l-7.72 7.72c-.78.78-.78 2.05 0 2.83L4 21.41c.39.39.9.59 1.41.59.51 0 1.02-.2 1.41-.59l7.78-7.78 2.81-2.81c.8-.78.8-2.07 0-2.86zM5.41 20L4 18.59l7.72-7.72 1.47 1.35L5.41 20z\"/>\n",
              "  </svg>\n",
              "      </button>\n",
              "      \n",
              "  <style>\n",
              "    .colab-df-container {\n",
              "      display:flex;\n",
              "      flex-wrap:wrap;\n",
              "      gap: 12px;\n",
              "    }\n",
              "\n",
              "    .colab-df-convert {\n",
              "      background-color: #E8F0FE;\n",
              "      border: none;\n",
              "      border-radius: 50%;\n",
              "      cursor: pointer;\n",
              "      display: none;\n",
              "      fill: #1967D2;\n",
              "      height: 32px;\n",
              "      padding: 0 0 0 0;\n",
              "      width: 32px;\n",
              "    }\n",
              "\n",
              "    .colab-df-convert:hover {\n",
              "      background-color: #E2EBFA;\n",
              "      box-shadow: 0px 1px 2px rgba(60, 64, 67, 0.3), 0px 1px 3px 1px rgba(60, 64, 67, 0.15);\n",
              "      fill: #174EA6;\n",
              "    }\n",
              "\n",
              "    [theme=dark] .colab-df-convert {\n",
              "      background-color: #3B4455;\n",
              "      fill: #D2E3FC;\n",
              "    }\n",
              "\n",
              "    [theme=dark] .colab-df-convert:hover {\n",
              "      background-color: #434B5C;\n",
              "      box-shadow: 0px 1px 3px 1px rgba(0, 0, 0, 0.15);\n",
              "      filter: drop-shadow(0px 1px 2px rgba(0, 0, 0, 0.3));\n",
              "      fill: #FFFFFF;\n",
              "    }\n",
              "  </style>\n",
              "\n",
              "      <script>\n",
              "        const buttonEl =\n",
              "          document.querySelector('#df-ad1f3a30-6f71-49e1-8f9d-41e060ef5efe button.colab-df-convert');\n",
              "        buttonEl.style.display =\n",
              "          google.colab.kernel.accessAllowed ? 'block' : 'none';\n",
              "\n",
              "        async function convertToInteractive(key) {\n",
              "          const element = document.querySelector('#df-ad1f3a30-6f71-49e1-8f9d-41e060ef5efe');\n",
              "          const dataTable =\n",
              "            await google.colab.kernel.invokeFunction('convertToInteractive',\n",
              "                                                     [key], {});\n",
              "          if (!dataTable) return;\n",
              "\n",
              "          const docLinkHtml = 'Like what you see? Visit the ' +\n",
              "            '<a target=\"_blank\" href=https://colab.research.google.com/notebooks/data_table.ipynb>data table notebook</a>'\n",
              "            + ' to learn more about interactive tables.';\n",
              "          element.innerHTML = '';\n",
              "          dataTable['output_type'] = 'display_data';\n",
              "          await google.colab.output.renderOutput(dataTable, element);\n",
              "          const docLink = document.createElement('div');\n",
              "          docLink.innerHTML = docLinkHtml;\n",
              "          element.appendChild(docLink);\n",
              "        }\n",
              "      </script>\n",
              "    </div>\n",
              "  </div>\n",
              "  "
            ]
          },
          "metadata": {},
          "execution_count": 6
        }
      ]
    },
    {
      "cell_type": "code",
      "source": [
        "# # Названия категорий переводим в числовой формат и записываем в отдельный столбец\n",
        "\n",
        "train['labels'] = train['class'].astype('category').cat.codes\n",
        "train.sample(5)"
      ],
      "metadata": {
        "papermill": {
          "duration": 0.035414,
          "end_time": "2022-06-25T21:33:40.039851",
          "exception": false,
          "start_time": "2022-06-25T21:33:40.004437",
          "status": "completed"
        },
        "tags": [],
        "execution": {
          "iopub.status.busy": "2022-07-12T10:44:50.476835Z",
          "iopub.execute_input": "2022-07-12T10:44:50.479352Z",
          "iopub.status.idle": "2022-07-12T10:44:50.506610Z",
          "shell.execute_reply.started": "2022-07-12T10:44:50.479289Z",
          "shell.execute_reply": "2022-07-12T10:44:50.505507Z"
        },
        "trusted": true,
        "colab": {
          "base_uri": "https://localhost:8080/",
          "height": 206
        },
        "id": "daNMhep8JKGQ",
        "outputId": "2458c8de-be9c-4832-c2c1-17ef276ba969"
      },
      "execution_count": 7,
      "outputs": [
        {
          "output_type": "execute_result",
          "data": {
            "text/plain": [
              "                                                    text  \\\n",
              "50656    Он отметил, что был знаком с Лори более 30 лет.   \n",
              "18495  Об этом заявил заместитель министра внутренних...   \n",
              "18     Михаил Соколов: Кстати говоря, я бы заметил, в...   \n",
              "35895  Говорит, что в начале августа в холле здания Г...   \n",
              "38157  В мае 2021 года суд приговорил лидера \"Левого ...   \n",
              "\n",
              "                                         class  labels  \n",
              "50656                                        O       0  \n",
              "18495                                        O       0  \n",
              "18                                           O       0  \n",
              "35895                                        O       0  \n",
              "38157  Привлечение к уголовной ответственности      32  "
            ],
            "text/html": [
              "\n",
              "  <div id=\"df-97f02afb-3e82-4bc6-ab07-33e5024bb0c2\">\n",
              "    <div class=\"colab-df-container\">\n",
              "      <div>\n",
              "<style scoped>\n",
              "    .dataframe tbody tr th:only-of-type {\n",
              "        vertical-align: middle;\n",
              "    }\n",
              "\n",
              "    .dataframe tbody tr th {\n",
              "        vertical-align: top;\n",
              "    }\n",
              "\n",
              "    .dataframe thead th {\n",
              "        text-align: right;\n",
              "    }\n",
              "</style>\n",
              "<table border=\"1\" class=\"dataframe\">\n",
              "  <thead>\n",
              "    <tr style=\"text-align: right;\">\n",
              "      <th></th>\n",
              "      <th>text</th>\n",
              "      <th>class</th>\n",
              "      <th>labels</th>\n",
              "    </tr>\n",
              "  </thead>\n",
              "  <tbody>\n",
              "    <tr>\n",
              "      <th>50656</th>\n",
              "      <td>Он отметил, что был знаком с Лори более 30 лет.</td>\n",
              "      <td>O</td>\n",
              "      <td>0</td>\n",
              "    </tr>\n",
              "    <tr>\n",
              "      <th>18495</th>\n",
              "      <td>Об этом заявил заместитель министра внутренних...</td>\n",
              "      <td>O</td>\n",
              "      <td>0</td>\n",
              "    </tr>\n",
              "    <tr>\n",
              "      <th>18</th>\n",
              "      <td>Михаил Соколов: Кстати говоря, я бы заметил, в...</td>\n",
              "      <td>O</td>\n",
              "      <td>0</td>\n",
              "    </tr>\n",
              "    <tr>\n",
              "      <th>35895</th>\n",
              "      <td>Говорит, что в начале августа в холле здания Г...</td>\n",
              "      <td>O</td>\n",
              "      <td>0</td>\n",
              "    </tr>\n",
              "    <tr>\n",
              "      <th>38157</th>\n",
              "      <td>В мае 2021 года суд приговорил лидера \"Левого ...</td>\n",
              "      <td>Привлечение к уголовной ответственности</td>\n",
              "      <td>32</td>\n",
              "    </tr>\n",
              "  </tbody>\n",
              "</table>\n",
              "</div>\n",
              "      <button class=\"colab-df-convert\" onclick=\"convertToInteractive('df-97f02afb-3e82-4bc6-ab07-33e5024bb0c2')\"\n",
              "              title=\"Convert this dataframe to an interactive table.\"\n",
              "              style=\"display:none;\">\n",
              "        \n",
              "  <svg xmlns=\"http://www.w3.org/2000/svg\" height=\"24px\"viewBox=\"0 0 24 24\"\n",
              "       width=\"24px\">\n",
              "    <path d=\"M0 0h24v24H0V0z\" fill=\"none\"/>\n",
              "    <path d=\"M18.56 5.44l.94 2.06.94-2.06 2.06-.94-2.06-.94-.94-2.06-.94 2.06-2.06.94zm-11 1L8.5 8.5l.94-2.06 2.06-.94-2.06-.94L8.5 2.5l-.94 2.06-2.06.94zm10 10l.94 2.06.94-2.06 2.06-.94-2.06-.94-.94-2.06-.94 2.06-2.06.94z\"/><path d=\"M17.41 7.96l-1.37-1.37c-.4-.4-.92-.59-1.43-.59-.52 0-1.04.2-1.43.59L10.3 9.45l-7.72 7.72c-.78.78-.78 2.05 0 2.83L4 21.41c.39.39.9.59 1.41.59.51 0 1.02-.2 1.41-.59l7.78-7.78 2.81-2.81c.8-.78.8-2.07 0-2.86zM5.41 20L4 18.59l7.72-7.72 1.47 1.35L5.41 20z\"/>\n",
              "  </svg>\n",
              "      </button>\n",
              "      \n",
              "  <style>\n",
              "    .colab-df-container {\n",
              "      display:flex;\n",
              "      flex-wrap:wrap;\n",
              "      gap: 12px;\n",
              "    }\n",
              "\n",
              "    .colab-df-convert {\n",
              "      background-color: #E8F0FE;\n",
              "      border: none;\n",
              "      border-radius: 50%;\n",
              "      cursor: pointer;\n",
              "      display: none;\n",
              "      fill: #1967D2;\n",
              "      height: 32px;\n",
              "      padding: 0 0 0 0;\n",
              "      width: 32px;\n",
              "    }\n",
              "\n",
              "    .colab-df-convert:hover {\n",
              "      background-color: #E2EBFA;\n",
              "      box-shadow: 0px 1px 2px rgba(60, 64, 67, 0.3), 0px 1px 3px 1px rgba(60, 64, 67, 0.15);\n",
              "      fill: #174EA6;\n",
              "    }\n",
              "\n",
              "    [theme=dark] .colab-df-convert {\n",
              "      background-color: #3B4455;\n",
              "      fill: #D2E3FC;\n",
              "    }\n",
              "\n",
              "    [theme=dark] .colab-df-convert:hover {\n",
              "      background-color: #434B5C;\n",
              "      box-shadow: 0px 1px 3px 1px rgba(0, 0, 0, 0.15);\n",
              "      filter: drop-shadow(0px 1px 2px rgba(0, 0, 0, 0.3));\n",
              "      fill: #FFFFFF;\n",
              "    }\n",
              "  </style>\n",
              "\n",
              "      <script>\n",
              "        const buttonEl =\n",
              "          document.querySelector('#df-97f02afb-3e82-4bc6-ab07-33e5024bb0c2 button.colab-df-convert');\n",
              "        buttonEl.style.display =\n",
              "          google.colab.kernel.accessAllowed ? 'block' : 'none';\n",
              "\n",
              "        async function convertToInteractive(key) {\n",
              "          const element = document.querySelector('#df-97f02afb-3e82-4bc6-ab07-33e5024bb0c2');\n",
              "          const dataTable =\n",
              "            await google.colab.kernel.invokeFunction('convertToInteractive',\n",
              "                                                     [key], {});\n",
              "          if (!dataTable) return;\n",
              "\n",
              "          const docLinkHtml = 'Like what you see? Visit the ' +\n",
              "            '<a target=\"_blank\" href=https://colab.research.google.com/notebooks/data_table.ipynb>data table notebook</a>'\n",
              "            + ' to learn more about interactive tables.';\n",
              "          element.innerHTML = '';\n",
              "          dataTable['output_type'] = 'display_data';\n",
              "          await google.colab.output.renderOutput(dataTable, element);\n",
              "          const docLink = document.createElement('div');\n",
              "          docLink.innerHTML = docLinkHtml;\n",
              "          element.appendChild(docLink);\n",
              "        }\n",
              "      </script>\n",
              "    </div>\n",
              "  </div>\n",
              "  "
            ]
          },
          "metadata": {},
          "execution_count": 7
        }
      ]
    },
    {
      "cell_type": "code",
      "source": [
        "# Теперь выведем все слова длиной менее 3-х символов и дополним список стоп-слов\n",
        "# пробовал искать среди стопслов равных 4-м, но там получаем слова 'газа', 'прав', 'дела', 'Рост'\n",
        "# как мне кажется данные слова, могут быть полезны для score\n",
        "\n",
        "stopwords_new = set()\n",
        "mas_stop = set()\n",
        "for words in train['text']:\n",
        "    for i in words.split():\n",
        "        if len(i) <= 2:\n",
        "            mas_stop.add(i)\n",
        "stopwords_new = set(stopwords_ru).union(mas_stop)"
      ],
      "metadata": {
        "papermill": {
          "duration": 0.33337,
          "end_time": "2022-06-25T21:33:40.966026",
          "exception": false,
          "start_time": "2022-06-25T21:33:40.632656",
          "status": "completed"
        },
        "tags": [],
        "execution": {
          "iopub.status.busy": "2022-07-10T17:31:29.869088Z",
          "iopub.execute_input": "2022-07-10T17:31:29.869443Z",
          "iopub.status.idle": "2022-07-10T17:31:30.249189Z",
          "shell.execute_reply.started": "2022-07-10T17:31:29.869414Z",
          "shell.execute_reply": "2022-07-10T17:31:30.247954Z"
        },
        "trusted": true,
        "id": "gpcqjTK9JKGR"
      },
      "execution_count": 9,
      "outputs": []
    },
    {
      "cell_type": "code",
      "source": [
        "# Создадим функцию по очистке данных. Будем переводить слова в нижний регистр, \n",
        "# удалять стоп слова, удалять числа и раздичные знаки которые не несут смысловой нагрузки. \n",
        "# Все слова преобразуем к их первоначалоной форме (Лемматизация)\n",
        "\n",
        "morph = pymorphy2.MorphAnalyzer()\n",
        "patterns = \"[A-Z|a-z|0-9!#$%&'()*+,./:“″;”<=>?@[\\]^_`{|}~—\\\"\\-•–«»]+\"\n",
        "#stops = set(stopwords.words(\"russian\"))\n",
        "def clean(text):\n",
        "    text = text.lower()\n",
        "    text = re.sub(patterns, ' ', text)\n",
        "    tokens = []\n",
        "    for token in text.split():\n",
        "        if token and token not in stopwords_new:\n",
        "            token = token.strip()\n",
        "            token = morph.normal_forms(token)[0]  # Лемматизация\n",
        "            #token = stemmer.stem(token) # Стеммизация\n",
        "            tokens.append(token)\n",
        "    return ' '.join(tokens)"
      ],
      "metadata": {
        "papermill": {
          "duration": 0.242346,
          "end_time": "2022-06-25T21:33:41.24453",
          "exception": false,
          "start_time": "2022-06-25T21:33:41.002184",
          "status": "completed"
        },
        "tags": [],
        "execution": {
          "iopub.status.busy": "2022-07-10T17:31:30.250861Z",
          "iopub.execute_input": "2022-07-10T17:31:30.251191Z",
          "iopub.status.idle": "2022-07-10T17:31:30.710201Z",
          "shell.execute_reply.started": "2022-07-10T17:31:30.251161Z",
          "shell.execute_reply": "2022-07-10T17:31:30.709023Z"
        },
        "trusted": true,
        "id": "XVOH-5i0JKGS"
      },
      "execution_count": 10,
      "outputs": []
    },
    {
      "cell_type": "code",
      "source": [
        "# Применим функцию очистки к train и test\n",
        "\n",
        "train['clean'] = train['text'].apply(lambda x: clean(x))\n",
        "test['clean'] = test['text'].apply(lambda x: clean(x))\n",
        "train[['clean', 'text']]"
      ],
      "metadata": {
        "papermill": {
          "duration": 143.802204,
          "end_time": "2022-06-25T21:36:05.057019",
          "exception": false,
          "start_time": "2022-06-25T21:33:41.254815",
          "status": "completed"
        },
        "tags": [],
        "execution": {
          "iopub.status.busy": "2022-07-10T17:31:30.712093Z",
          "iopub.execute_input": "2022-07-10T17:31:30.712533Z",
          "iopub.status.idle": "2022-07-10T17:37:59.663251Z",
          "shell.execute_reply.started": "2022-07-10T17:31:30.712487Z",
          "shell.execute_reply": "2022-07-10T17:37:59.662061Z"
        },
        "trusted": true,
        "colab": {
          "base_uri": "https://localhost:8080/",
          "height": 424
        },
        "id": "BPLhwzN3JKGU",
        "outputId": "25d17052-ac8e-4c04-af80-4087a1cc2434"
      },
      "execution_count": 11,
      "outputs": [
        {
          "output_type": "execute_result",
          "data": {
            "text/plain": [
              "                                                   clean  \\\n",
              "0      продолжать кудрин лично уверенный нацпроект на...   \n",
              "1      сотрудник го отдел хранить информация работник...   \n",
              "2      сирийский служба безопасность пока это справля...   \n",
              "3      мвд сообщить днк мужчина совпасть образец найт...   \n",
              "4      сообщить среда пресс секретарь белый дом джена...   \n",
              "...                                                  ...   \n",
              "59995  представлять тяжело находиться беларусь постоя...   \n",
              "59996  рамка возбудить уголовный дело дать правовой о...   \n",
              "59997  заявить руководитель национальный центральный ...   \n",
              "59998  ранее лайф рассказывать тёмный дело мушвиг абд...   \n",
              "59999   заявить ноябрь разговор корреспондент иа чита ру   \n",
              "\n",
              "                                                    text  \n",
              "0      При этом, продолжает Кудрин, лично он уверен: ...  \n",
              "1      Сотрудники 1-го отдела хранили информацию о ра...  \n",
              "2      Сирийские службы безопасности пока с этим спра...  \n",
              "3      В МВД сообщили, что ДНК мужчины совпала с обра...  \n",
              "4      Об этом сообщила в среду пресс-секретарь Белог...  \n",
              "...                                                  ...  \n",
              "59995  Я не представляю, как тяжело вам сейчас находи...  \n",
              "59996  \"В рамках уже возбужденного уголовного дела бу...  \n",
              "59997  Об этом заявил руководитель национального цент...  \n",
              "59998  Ранее Лайф рассказывал о темных делах Мушвига ...  \n",
              "59999  Об этом он заявил 8 ноября в разговоре с корре...  \n",
              "\n",
              "[59402 rows x 2 columns]"
            ],
            "text/html": [
              "\n",
              "  <div id=\"df-973e876d-e8cb-4585-adb4-5c784277072b\">\n",
              "    <div class=\"colab-df-container\">\n",
              "      <div>\n",
              "<style scoped>\n",
              "    .dataframe tbody tr th:only-of-type {\n",
              "        vertical-align: middle;\n",
              "    }\n",
              "\n",
              "    .dataframe tbody tr th {\n",
              "        vertical-align: top;\n",
              "    }\n",
              "\n",
              "    .dataframe thead th {\n",
              "        text-align: right;\n",
              "    }\n",
              "</style>\n",
              "<table border=\"1\" class=\"dataframe\">\n",
              "  <thead>\n",
              "    <tr style=\"text-align: right;\">\n",
              "      <th></th>\n",
              "      <th>clean</th>\n",
              "      <th>text</th>\n",
              "    </tr>\n",
              "  </thead>\n",
              "  <tbody>\n",
              "    <tr>\n",
              "      <th>0</th>\n",
              "      <td>продолжать кудрин лично уверенный нацпроект на...</td>\n",
              "      <td>При этом, продолжает Кудрин, лично он уверен: ...</td>\n",
              "    </tr>\n",
              "    <tr>\n",
              "      <th>1</th>\n",
              "      <td>сотрудник го отдел хранить информация работник...</td>\n",
              "      <td>Сотрудники 1-го отдела хранили информацию о ра...</td>\n",
              "    </tr>\n",
              "    <tr>\n",
              "      <th>2</th>\n",
              "      <td>сирийский служба безопасность пока это справля...</td>\n",
              "      <td>Сирийские службы безопасности пока с этим спра...</td>\n",
              "    </tr>\n",
              "    <tr>\n",
              "      <th>3</th>\n",
              "      <td>мвд сообщить днк мужчина совпасть образец найт...</td>\n",
              "      <td>В МВД сообщили, что ДНК мужчины совпала с обра...</td>\n",
              "    </tr>\n",
              "    <tr>\n",
              "      <th>4</th>\n",
              "      <td>сообщить среда пресс секретарь белый дом джена...</td>\n",
              "      <td>Об этом сообщила в среду пресс-секретарь Белог...</td>\n",
              "    </tr>\n",
              "    <tr>\n",
              "      <th>...</th>\n",
              "      <td>...</td>\n",
              "      <td>...</td>\n",
              "    </tr>\n",
              "    <tr>\n",
              "      <th>59995</th>\n",
              "      <td>представлять тяжело находиться беларусь постоя...</td>\n",
              "      <td>Я не представляю, как тяжело вам сейчас находи...</td>\n",
              "    </tr>\n",
              "    <tr>\n",
              "      <th>59996</th>\n",
              "      <td>рамка возбудить уголовный дело дать правовой о...</td>\n",
              "      <td>\"В рамках уже возбужденного уголовного дела бу...</td>\n",
              "    </tr>\n",
              "    <tr>\n",
              "      <th>59997</th>\n",
              "      <td>заявить руководитель национальный центральный ...</td>\n",
              "      <td>Об этом заявил руководитель национального цент...</td>\n",
              "    </tr>\n",
              "    <tr>\n",
              "      <th>59998</th>\n",
              "      <td>ранее лайф рассказывать тёмный дело мушвиг абд...</td>\n",
              "      <td>Ранее Лайф рассказывал о темных делах Мушвига ...</td>\n",
              "    </tr>\n",
              "    <tr>\n",
              "      <th>59999</th>\n",
              "      <td>заявить ноябрь разговор корреспондент иа чита ру</td>\n",
              "      <td>Об этом он заявил 8 ноября в разговоре с корре...</td>\n",
              "    </tr>\n",
              "  </tbody>\n",
              "</table>\n",
              "<p>59402 rows × 2 columns</p>\n",
              "</div>\n",
              "      <button class=\"colab-df-convert\" onclick=\"convertToInteractive('df-973e876d-e8cb-4585-adb4-5c784277072b')\"\n",
              "              title=\"Convert this dataframe to an interactive table.\"\n",
              "              style=\"display:none;\">\n",
              "        \n",
              "  <svg xmlns=\"http://www.w3.org/2000/svg\" height=\"24px\"viewBox=\"0 0 24 24\"\n",
              "       width=\"24px\">\n",
              "    <path d=\"M0 0h24v24H0V0z\" fill=\"none\"/>\n",
              "    <path d=\"M18.56 5.44l.94 2.06.94-2.06 2.06-.94-2.06-.94-.94-2.06-.94 2.06-2.06.94zm-11 1L8.5 8.5l.94-2.06 2.06-.94-2.06-.94L8.5 2.5l-.94 2.06-2.06.94zm10 10l.94 2.06.94-2.06 2.06-.94-2.06-.94-.94-2.06-.94 2.06-2.06.94z\"/><path d=\"M17.41 7.96l-1.37-1.37c-.4-.4-.92-.59-1.43-.59-.52 0-1.04.2-1.43.59L10.3 9.45l-7.72 7.72c-.78.78-.78 2.05 0 2.83L4 21.41c.39.39.9.59 1.41.59.51 0 1.02-.2 1.41-.59l7.78-7.78 2.81-2.81c.8-.78.8-2.07 0-2.86zM5.41 20L4 18.59l7.72-7.72 1.47 1.35L5.41 20z\"/>\n",
              "  </svg>\n",
              "      </button>\n",
              "      \n",
              "  <style>\n",
              "    .colab-df-container {\n",
              "      display:flex;\n",
              "      flex-wrap:wrap;\n",
              "      gap: 12px;\n",
              "    }\n",
              "\n",
              "    .colab-df-convert {\n",
              "      background-color: #E8F0FE;\n",
              "      border: none;\n",
              "      border-radius: 50%;\n",
              "      cursor: pointer;\n",
              "      display: none;\n",
              "      fill: #1967D2;\n",
              "      height: 32px;\n",
              "      padding: 0 0 0 0;\n",
              "      width: 32px;\n",
              "    }\n",
              "\n",
              "    .colab-df-convert:hover {\n",
              "      background-color: #E2EBFA;\n",
              "      box-shadow: 0px 1px 2px rgba(60, 64, 67, 0.3), 0px 1px 3px 1px rgba(60, 64, 67, 0.15);\n",
              "      fill: #174EA6;\n",
              "    }\n",
              "\n",
              "    [theme=dark] .colab-df-convert {\n",
              "      background-color: #3B4455;\n",
              "      fill: #D2E3FC;\n",
              "    }\n",
              "\n",
              "    [theme=dark] .colab-df-convert:hover {\n",
              "      background-color: #434B5C;\n",
              "      box-shadow: 0px 1px 3px 1px rgba(0, 0, 0, 0.15);\n",
              "      filter: drop-shadow(0px 1px 2px rgba(0, 0, 0, 0.3));\n",
              "      fill: #FFFFFF;\n",
              "    }\n",
              "  </style>\n",
              "\n",
              "      <script>\n",
              "        const buttonEl =\n",
              "          document.querySelector('#df-973e876d-e8cb-4585-adb4-5c784277072b button.colab-df-convert');\n",
              "        buttonEl.style.display =\n",
              "          google.colab.kernel.accessAllowed ? 'block' : 'none';\n",
              "\n",
              "        async function convertToInteractive(key) {\n",
              "          const element = document.querySelector('#df-973e876d-e8cb-4585-adb4-5c784277072b');\n",
              "          const dataTable =\n",
              "            await google.colab.kernel.invokeFunction('convertToInteractive',\n",
              "                                                     [key], {});\n",
              "          if (!dataTable) return;\n",
              "\n",
              "          const docLinkHtml = 'Like what you see? Visit the ' +\n",
              "            '<a target=\"_blank\" href=https://colab.research.google.com/notebooks/data_table.ipynb>data table notebook</a>'\n",
              "            + ' to learn more about interactive tables.';\n",
              "          element.innerHTML = '';\n",
              "          dataTable['output_type'] = 'display_data';\n",
              "          await google.colab.output.renderOutput(dataTable, element);\n",
              "          const docLink = document.createElement('div');\n",
              "          docLink.innerHTML = docLinkHtml;\n",
              "          element.appendChild(docLink);\n",
              "        }\n",
              "      </script>\n",
              "    </div>\n",
              "  </div>\n",
              "  "
            ]
          },
          "metadata": {},
          "execution_count": 11
        }
      ]
    },
    {
      "cell_type": "code",
      "source": [
        "dels = ['Выемки', 'Нападение', 'Манипулирование рынком', 'Отмывание денег', 'Закрытие филиала, представительства']\n",
        "#train_df = train.take(list(dels))\n",
        "#train.loc[train['class'].str.startswith([\"Нападение\", \"Выемки\"])]\n",
        "#searchfor = ['john', 'doe']\n",
        "train_df = train[~train['class'].str.contains('|'.join(dels))]\n",
        "train_df['class'].value_counts()"
      ],
      "metadata": {
        "execution": {
          "iopub.status.busy": "2022-07-10T17:38:53.206718Z",
          "iopub.execute_input": "2022-07-10T17:38:53.207071Z",
          "iopub.status.idle": "2022-07-10T17:38:53.266885Z",
          "shell.execute_reply.started": "2022-07-10T17:38:53.207042Z",
          "shell.execute_reply": "2022-07-10T17:38:53.265829Z"
        },
        "trusted": true,
        "id": "LKbI8SoFJKGV"
      },
      "execution_count": null,
      "outputs": []
    },
    {
      "cell_type": "markdown",
      "source": [
        "## FastText"
      ],
      "metadata": {
        "id": "vQehwl7yJKGW"
      }
    },
    {
      "cell_type": "code",
      "source": [
        "ft_train, ft_test = train_test_split(train, random_state=42, test_size=0.2, stratify = train['class'])"
      ],
      "metadata": {
        "execution": {
          "iopub.status.busy": "2022-07-08T13:58:55.611615Z",
          "iopub.execute_input": "2022-07-08T13:58:55.611869Z",
          "iopub.status.idle": "2022-07-08T13:58:55.722073Z",
          "shell.execute_reply.started": "2022-07-08T13:58:55.611846Z",
          "shell.execute_reply": "2022-07-08T13:58:55.720918Z"
        },
        "trusted": true,
        "id": "UP77WsFFJKGZ"
      },
      "execution_count": 12,
      "outputs": []
    },
    {
      "cell_type": "code",
      "source": [
        "def to_ft_label(s):\n",
        "    return '__label__'+s.replace(',','_').replace(' ','_').replace('-','_')\n",
        "\n",
        "labels_dict = {}\n",
        "for g in train['class']:\n",
        "    labels_dict[to_ft_label(g)] = g"
      ],
      "metadata": {
        "execution": {
          "iopub.status.busy": "2022-07-08T13:58:55.723626Z",
          "iopub.execute_input": "2022-07-08T13:58:55.724011Z",
          "iopub.status.idle": "2022-07-08T13:58:55.802359Z",
          "shell.execute_reply.started": "2022-07-08T13:58:55.723974Z",
          "shell.execute_reply": "2022-07-08T13:58:55.801282Z"
        },
        "trusted": true,
        "id": "skutV3O8JKGa"
      },
      "execution_count": 13,
      "outputs": []
    },
    {
      "cell_type": "code",
      "source": [
        "from gensim.utils import simple_preprocess\n",
        "from gensim.parsing.preprocessing import remove_stopwords\n",
        "train.iloc[:, 0] = train.iloc[:, 0].apply(lambda x: ' '.join(simple_preprocess(x)))\n",
        "test.iloc[:, 1] = test.iloc[:, 1].apply(lambda x: ' '.join(simple_preprocess(x)))"
      ],
      "metadata": {
        "execution": {
          "iopub.status.busy": "2022-07-08T13:58:55.80449Z",
          "iopub.execute_input": "2022-07-08T13:58:55.805187Z",
          "iopub.status.idle": "2022-07-08T13:58:58.308791Z",
          "shell.execute_reply.started": "2022-07-08T13:58:55.805159Z",
          "shell.execute_reply": "2022-07-08T13:58:58.307782Z"
        },
        "trusted": true,
        "id": "0yssUSQCJKGb"
      },
      "execution_count": 14,
      "outputs": []
    },
    {
      "cell_type": "code",
      "source": [
        "col = ['class', 'text']\n",
        "\n",
        "# train\n",
        "train_for_ft = ft_train[col]\n",
        "train_for_ft['class']=[to_ft_label(s) for s in train_for_ft['class']]\n",
        "\n",
        "# test\n",
        "test_for_ft = ft_test[col]\n",
        "test_for_ft['class']=[to_ft_label(s) for s in test_for_ft['class']]"
      ],
      "metadata": {
        "execution": {
          "iopub.status.busy": "2022-07-08T13:58:58.309748Z",
          "iopub.execute_input": "2022-07-08T13:58:58.309994Z",
          "iopub.status.idle": "2022-07-08T13:58:58.379691Z",
          "shell.execute_reply.started": "2022-07-08T13:58:58.309969Z",
          "shell.execute_reply": "2022-07-08T13:58:58.378994Z"
        },
        "trusted": true,
        "colab": {
          "base_uri": "https://localhost:8080/"
        },
        "id": "CxtVG_fNJKGb",
        "outputId": "12ba7cbc-78ba-42a8-a12a-fc182acdd002"
      },
      "execution_count": 15,
      "outputs": [
        {
          "output_type": "stream",
          "name": "stderr",
          "text": [
            "/usr/local/lib/python3.7/dist-packages/ipykernel_launcher.py:5: SettingWithCopyWarning: \n",
            "A value is trying to be set on a copy of a slice from a DataFrame.\n",
            "Try using .loc[row_indexer,col_indexer] = value instead\n",
            "\n",
            "See the caveats in the documentation: https://pandas.pydata.org/pandas-docs/stable/user_guide/indexing.html#returning-a-view-versus-a-copy\n",
            "  \"\"\"\n",
            "/usr/local/lib/python3.7/dist-packages/ipykernel_launcher.py:9: SettingWithCopyWarning: \n",
            "A value is trying to be set on a copy of a slice from a DataFrame.\n",
            "Try using .loc[row_indexer,col_indexer] = value instead\n",
            "\n",
            "See the caveats in the documentation: https://pandas.pydata.org/pandas-docs/stable/user_guide/indexing.html#returning-a-view-versus-a-copy\n",
            "  if __name__ == '__main__':\n"
          ]
        }
      ]
    },
    {
      "cell_type": "code",
      "source": [
        "train_for_ft.to_csv('train_for_ft.csv', index=False, sep=' ', header=False, escapechar=\" \")\n",
        "test_for_ft.to_csv('test_for_ft.csv', index=False, sep=' ', header=False, escapechar=\" \")"
      ],
      "metadata": {
        "execution": {
          "iopub.status.busy": "2022-07-08T13:58:58.380773Z",
          "iopub.execute_input": "2022-07-08T13:58:58.382071Z",
          "iopub.status.idle": "2022-07-08T13:58:58.81219Z",
          "shell.execute_reply.started": "2022-07-08T13:58:58.382042Z",
          "shell.execute_reply": "2022-07-08T13:58:58.811106Z"
        },
        "trusted": true,
        "id": "EaHhFnV1JKGc"
      },
      "execution_count": 16,
      "outputs": []
    },
    {
      "cell_type": "code",
      "source": [
        "import fasttext\n",
        "model = fasttext.train_supervised('train_for_ft.csv', lr = 0.9)"
      ],
      "metadata": {
        "execution": {
          "iopub.status.busy": "2022-07-08T13:58:58.813576Z",
          "iopub.execute_input": "2022-07-08T13:58:58.813837Z",
          "iopub.status.idle": "2022-07-08T13:59:00.849858Z",
          "shell.execute_reply.started": "2022-07-08T13:58:58.813812Z",
          "shell.execute_reply": "2022-07-08T13:59:00.849085Z"
        },
        "trusted": true,
        "id": "KS5dBOp5JKGd"
      },
      "execution_count": 20,
      "outputs": []
    },
    {
      "cell_type": "code",
      "source": [
        "model.test('test_for_ft.csv')"
      ],
      "metadata": {
        "execution": {
          "iopub.status.busy": "2022-07-08T13:59:00.850622Z",
          "iopub.execute_input": "2022-07-08T13:59:00.850842Z",
          "iopub.status.idle": "2022-07-08T13:59:01.015661Z",
          "shell.execute_reply.started": "2022-07-08T13:59:00.85082Z",
          "shell.execute_reply": "2022-07-08T13:59:01.01438Z"
        },
        "trusted": true,
        "colab": {
          "base_uri": "https://localhost:8080/"
        },
        "id": "QZaDytHEJKGd",
        "outputId": "5bc1048b-6bdf-4932-b2c7-b3c5d0b724bb"
      },
      "execution_count": 21,
      "outputs": [
        {
          "output_type": "execute_result",
          "data": {
            "text/plain": [
              "(11881, 0.8876357208989142, 0.8876357208989142)"
            ]
          },
          "metadata": {},
          "execution_count": 21
        }
      ]
    },
    {
      "cell_type": "code",
      "source": [
        "def predict(test):\n",
        "    return labels_dict[ model.predict(test['text'], k=1)[0][0] ]\n",
        "test['predictions'] = test.apply(predict,axis=1)\n",
        "\n",
        "test.head()"
      ],
      "metadata": {
        "execution": {
          "iopub.status.busy": "2022-07-08T13:59:01.017011Z",
          "iopub.execute_input": "2022-07-08T13:59:01.017459Z",
          "iopub.status.idle": "2022-07-08T13:59:03.010377Z",
          "shell.execute_reply.started": "2022-07-08T13:59:01.017431Z",
          "shell.execute_reply": "2022-07-08T13:59:03.009066Z"
        },
        "trusted": true,
        "colab": {
          "base_uri": "https://localhost:8080/",
          "height": 206
        },
        "id": "2epPqshKJKGe",
        "outputId": "75d52e24-31eb-4e7e-d74c-66c804d9d740"
      },
      "execution_count": 22,
      "outputs": [
        {
          "output_type": "execute_result",
          "data": {
            "text/plain": [
              "   Unnamed: 0                                               text class  \\\n",
              "0           0  куйбышевский районный суд петербурга заключил ...     O   \n",
              "1           1  результате разлива нефти более тысяч баррелей ...     O   \n",
              "2           2  бы сказал самым популярным популярность котора...     O   \n",
              "3           3  это стандартная практика хотя данном случае эк...     O   \n",
              "4           4  сам павел своих товарищах по делу сказал что в...     O   \n",
              "\n",
              "                                               clean   predictions  \n",
              "0  куйбышевский районный суд петербург заключить ...             O  \n",
              "1  результат разлив нефть тысяча баррель сырьё по...  Утечка нефти  \n",
              "2  сказать самый популярным… популярность который...             O  \n",
              "3  это стандартный практика хотя данный случай эк...             O  \n",
              "4   павел свой товарищ дело сказать заметно поседеть             O  "
            ],
            "text/html": [
              "\n",
              "  <div id=\"df-422aad94-dfba-4a97-9285-47003455a1c1\">\n",
              "    <div class=\"colab-df-container\">\n",
              "      <div>\n",
              "<style scoped>\n",
              "    .dataframe tbody tr th:only-of-type {\n",
              "        vertical-align: middle;\n",
              "    }\n",
              "\n",
              "    .dataframe tbody tr th {\n",
              "        vertical-align: top;\n",
              "    }\n",
              "\n",
              "    .dataframe thead th {\n",
              "        text-align: right;\n",
              "    }\n",
              "</style>\n",
              "<table border=\"1\" class=\"dataframe\">\n",
              "  <thead>\n",
              "    <tr style=\"text-align: right;\">\n",
              "      <th></th>\n",
              "      <th>Unnamed: 0</th>\n",
              "      <th>text</th>\n",
              "      <th>class</th>\n",
              "      <th>clean</th>\n",
              "      <th>predictions</th>\n",
              "    </tr>\n",
              "  </thead>\n",
              "  <tbody>\n",
              "    <tr>\n",
              "      <th>0</th>\n",
              "      <td>0</td>\n",
              "      <td>куйбышевский районный суд петербурга заключил ...</td>\n",
              "      <td>O</td>\n",
              "      <td>куйбышевский районный суд петербург заключить ...</td>\n",
              "      <td>O</td>\n",
              "    </tr>\n",
              "    <tr>\n",
              "      <th>1</th>\n",
              "      <td>1</td>\n",
              "      <td>результате разлива нефти более тысяч баррелей ...</td>\n",
              "      <td>O</td>\n",
              "      <td>результат разлив нефть тысяча баррель сырьё по...</td>\n",
              "      <td>Утечка нефти</td>\n",
              "    </tr>\n",
              "    <tr>\n",
              "      <th>2</th>\n",
              "      <td>2</td>\n",
              "      <td>бы сказал самым популярным популярность котора...</td>\n",
              "      <td>O</td>\n",
              "      <td>сказать самый популярным… популярность который...</td>\n",
              "      <td>O</td>\n",
              "    </tr>\n",
              "    <tr>\n",
              "      <th>3</th>\n",
              "      <td>3</td>\n",
              "      <td>это стандартная практика хотя данном случае эк...</td>\n",
              "      <td>O</td>\n",
              "      <td>это стандартный практика хотя данный случай эк...</td>\n",
              "      <td>O</td>\n",
              "    </tr>\n",
              "    <tr>\n",
              "      <th>4</th>\n",
              "      <td>4</td>\n",
              "      <td>сам павел своих товарищах по делу сказал что в...</td>\n",
              "      <td>O</td>\n",
              "      <td>павел свой товарищ дело сказать заметно поседеть</td>\n",
              "      <td>O</td>\n",
              "    </tr>\n",
              "  </tbody>\n",
              "</table>\n",
              "</div>\n",
              "      <button class=\"colab-df-convert\" onclick=\"convertToInteractive('df-422aad94-dfba-4a97-9285-47003455a1c1')\"\n",
              "              title=\"Convert this dataframe to an interactive table.\"\n",
              "              style=\"display:none;\">\n",
              "        \n",
              "  <svg xmlns=\"http://www.w3.org/2000/svg\" height=\"24px\"viewBox=\"0 0 24 24\"\n",
              "       width=\"24px\">\n",
              "    <path d=\"M0 0h24v24H0V0z\" fill=\"none\"/>\n",
              "    <path d=\"M18.56 5.44l.94 2.06.94-2.06 2.06-.94-2.06-.94-.94-2.06-.94 2.06-2.06.94zm-11 1L8.5 8.5l.94-2.06 2.06-.94-2.06-.94L8.5 2.5l-.94 2.06-2.06.94zm10 10l.94 2.06.94-2.06 2.06-.94-2.06-.94-.94-2.06-.94 2.06-2.06.94z\"/><path d=\"M17.41 7.96l-1.37-1.37c-.4-.4-.92-.59-1.43-.59-.52 0-1.04.2-1.43.59L10.3 9.45l-7.72 7.72c-.78.78-.78 2.05 0 2.83L4 21.41c.39.39.9.59 1.41.59.51 0 1.02-.2 1.41-.59l7.78-7.78 2.81-2.81c.8-.78.8-2.07 0-2.86zM5.41 20L4 18.59l7.72-7.72 1.47 1.35L5.41 20z\"/>\n",
              "  </svg>\n",
              "      </button>\n",
              "      \n",
              "  <style>\n",
              "    .colab-df-container {\n",
              "      display:flex;\n",
              "      flex-wrap:wrap;\n",
              "      gap: 12px;\n",
              "    }\n",
              "\n",
              "    .colab-df-convert {\n",
              "      background-color: #E8F0FE;\n",
              "      border: none;\n",
              "      border-radius: 50%;\n",
              "      cursor: pointer;\n",
              "      display: none;\n",
              "      fill: #1967D2;\n",
              "      height: 32px;\n",
              "      padding: 0 0 0 0;\n",
              "      width: 32px;\n",
              "    }\n",
              "\n",
              "    .colab-df-convert:hover {\n",
              "      background-color: #E2EBFA;\n",
              "      box-shadow: 0px 1px 2px rgba(60, 64, 67, 0.3), 0px 1px 3px 1px rgba(60, 64, 67, 0.15);\n",
              "      fill: #174EA6;\n",
              "    }\n",
              "\n",
              "    [theme=dark] .colab-df-convert {\n",
              "      background-color: #3B4455;\n",
              "      fill: #D2E3FC;\n",
              "    }\n",
              "\n",
              "    [theme=dark] .colab-df-convert:hover {\n",
              "      background-color: #434B5C;\n",
              "      box-shadow: 0px 1px 3px 1px rgba(0, 0, 0, 0.15);\n",
              "      filter: drop-shadow(0px 1px 2px rgba(0, 0, 0, 0.3));\n",
              "      fill: #FFFFFF;\n",
              "    }\n",
              "  </style>\n",
              "\n",
              "      <script>\n",
              "        const buttonEl =\n",
              "          document.querySelector('#df-422aad94-dfba-4a97-9285-47003455a1c1 button.colab-df-convert');\n",
              "        buttonEl.style.display =\n",
              "          google.colab.kernel.accessAllowed ? 'block' : 'none';\n",
              "\n",
              "        async function convertToInteractive(key) {\n",
              "          const element = document.querySelector('#df-422aad94-dfba-4a97-9285-47003455a1c1');\n",
              "          const dataTable =\n",
              "            await google.colab.kernel.invokeFunction('convertToInteractive',\n",
              "                                                     [key], {});\n",
              "          if (!dataTable) return;\n",
              "\n",
              "          const docLinkHtml = 'Like what you see? Visit the ' +\n",
              "            '<a target=\"_blank\" href=https://colab.research.google.com/notebooks/data_table.ipynb>data table notebook</a>'\n",
              "            + ' to learn more about interactive tables.';\n",
              "          element.innerHTML = '';\n",
              "          dataTable['output_type'] = 'display_data';\n",
              "          await google.colab.output.renderOutput(dataTable, element);\n",
              "          const docLink = document.createElement('div');\n",
              "          docLink.innerHTML = docLinkHtml;\n",
              "          element.appendChild(docLink);\n",
              "        }\n",
              "      </script>\n",
              "    </div>\n",
              "  </div>\n",
              "  "
            ]
          },
          "metadata": {},
          "execution_count": 22
        }
      ]
    },
    {
      "cell_type": "code",
      "source": [
        "submission = pd.DataFrame({'id':range(0, len(test)),\n",
        "                           'class':test['predictions'].values},\n",
        "                          columns=['id', 'class'])\n",
        "submission.to_csv('submission1.csv', index=False)\n",
        "submission.head()"
      ],
      "metadata": {
        "execution": {
          "iopub.status.busy": "2022-06-26T13:36:52.599332Z",
          "iopub.execute_input": "2022-06-26T13:36:52.599686Z",
          "iopub.status.idle": "2022-06-26T13:36:52.658191Z",
          "shell.execute_reply.started": "2022-06-26T13:36:52.599652Z",
          "shell.execute_reply": "2022-06-26T13:36:52.656834Z"
        },
        "trusted": true,
        "colab": {
          "base_uri": "https://localhost:8080/",
          "height": 206
        },
        "id": "q8wbMTO0JKGe",
        "outputId": "a605f5b5-beca-4a7c-f964-ff2f3fa958d2"
      },
      "execution_count": 23,
      "outputs": [
        {
          "output_type": "execute_result",
          "data": {
            "text/plain": [
              "   id         class\n",
              "0   0             O\n",
              "1   1  Утечка нефти\n",
              "2   2             O\n",
              "3   3             O\n",
              "4   4             O"
            ],
            "text/html": [
              "\n",
              "  <div id=\"df-418bc842-0620-4a06-aa34-5fd354d75dca\">\n",
              "    <div class=\"colab-df-container\">\n",
              "      <div>\n",
              "<style scoped>\n",
              "    .dataframe tbody tr th:only-of-type {\n",
              "        vertical-align: middle;\n",
              "    }\n",
              "\n",
              "    .dataframe tbody tr th {\n",
              "        vertical-align: top;\n",
              "    }\n",
              "\n",
              "    .dataframe thead th {\n",
              "        text-align: right;\n",
              "    }\n",
              "</style>\n",
              "<table border=\"1\" class=\"dataframe\">\n",
              "  <thead>\n",
              "    <tr style=\"text-align: right;\">\n",
              "      <th></th>\n",
              "      <th>id</th>\n",
              "      <th>class</th>\n",
              "    </tr>\n",
              "  </thead>\n",
              "  <tbody>\n",
              "    <tr>\n",
              "      <th>0</th>\n",
              "      <td>0</td>\n",
              "      <td>O</td>\n",
              "    </tr>\n",
              "    <tr>\n",
              "      <th>1</th>\n",
              "      <td>1</td>\n",
              "      <td>Утечка нефти</td>\n",
              "    </tr>\n",
              "    <tr>\n",
              "      <th>2</th>\n",
              "      <td>2</td>\n",
              "      <td>O</td>\n",
              "    </tr>\n",
              "    <tr>\n",
              "      <th>3</th>\n",
              "      <td>3</td>\n",
              "      <td>O</td>\n",
              "    </tr>\n",
              "    <tr>\n",
              "      <th>4</th>\n",
              "      <td>4</td>\n",
              "      <td>O</td>\n",
              "    </tr>\n",
              "  </tbody>\n",
              "</table>\n",
              "</div>\n",
              "      <button class=\"colab-df-convert\" onclick=\"convertToInteractive('df-418bc842-0620-4a06-aa34-5fd354d75dca')\"\n",
              "              title=\"Convert this dataframe to an interactive table.\"\n",
              "              style=\"display:none;\">\n",
              "        \n",
              "  <svg xmlns=\"http://www.w3.org/2000/svg\" height=\"24px\"viewBox=\"0 0 24 24\"\n",
              "       width=\"24px\">\n",
              "    <path d=\"M0 0h24v24H0V0z\" fill=\"none\"/>\n",
              "    <path d=\"M18.56 5.44l.94 2.06.94-2.06 2.06-.94-2.06-.94-.94-2.06-.94 2.06-2.06.94zm-11 1L8.5 8.5l.94-2.06 2.06-.94-2.06-.94L8.5 2.5l-.94 2.06-2.06.94zm10 10l.94 2.06.94-2.06 2.06-.94-2.06-.94-.94-2.06-.94 2.06-2.06.94z\"/><path d=\"M17.41 7.96l-1.37-1.37c-.4-.4-.92-.59-1.43-.59-.52 0-1.04.2-1.43.59L10.3 9.45l-7.72 7.72c-.78.78-.78 2.05 0 2.83L4 21.41c.39.39.9.59 1.41.59.51 0 1.02-.2 1.41-.59l7.78-7.78 2.81-2.81c.8-.78.8-2.07 0-2.86zM5.41 20L4 18.59l7.72-7.72 1.47 1.35L5.41 20z\"/>\n",
              "  </svg>\n",
              "      </button>\n",
              "      \n",
              "  <style>\n",
              "    .colab-df-container {\n",
              "      display:flex;\n",
              "      flex-wrap:wrap;\n",
              "      gap: 12px;\n",
              "    }\n",
              "\n",
              "    .colab-df-convert {\n",
              "      background-color: #E8F0FE;\n",
              "      border: none;\n",
              "      border-radius: 50%;\n",
              "      cursor: pointer;\n",
              "      display: none;\n",
              "      fill: #1967D2;\n",
              "      height: 32px;\n",
              "      padding: 0 0 0 0;\n",
              "      width: 32px;\n",
              "    }\n",
              "\n",
              "    .colab-df-convert:hover {\n",
              "      background-color: #E2EBFA;\n",
              "      box-shadow: 0px 1px 2px rgba(60, 64, 67, 0.3), 0px 1px 3px 1px rgba(60, 64, 67, 0.15);\n",
              "      fill: #174EA6;\n",
              "    }\n",
              "\n",
              "    [theme=dark] .colab-df-convert {\n",
              "      background-color: #3B4455;\n",
              "      fill: #D2E3FC;\n",
              "    }\n",
              "\n",
              "    [theme=dark] .colab-df-convert:hover {\n",
              "      background-color: #434B5C;\n",
              "      box-shadow: 0px 1px 3px 1px rgba(0, 0, 0, 0.15);\n",
              "      filter: drop-shadow(0px 1px 2px rgba(0, 0, 0, 0.3));\n",
              "      fill: #FFFFFF;\n",
              "    }\n",
              "  </style>\n",
              "\n",
              "      <script>\n",
              "        const buttonEl =\n",
              "          document.querySelector('#df-418bc842-0620-4a06-aa34-5fd354d75dca button.colab-df-convert');\n",
              "        buttonEl.style.display =\n",
              "          google.colab.kernel.accessAllowed ? 'block' : 'none';\n",
              "\n",
              "        async function convertToInteractive(key) {\n",
              "          const element = document.querySelector('#df-418bc842-0620-4a06-aa34-5fd354d75dca');\n",
              "          const dataTable =\n",
              "            await google.colab.kernel.invokeFunction('convertToInteractive',\n",
              "                                                     [key], {});\n",
              "          if (!dataTable) return;\n",
              "\n",
              "          const docLinkHtml = 'Like what you see? Visit the ' +\n",
              "            '<a target=\"_blank\" href=https://colab.research.google.com/notebooks/data_table.ipynb>data table notebook</a>'\n",
              "            + ' to learn more about interactive tables.';\n",
              "          element.innerHTML = '';\n",
              "          dataTable['output_type'] = 'display_data';\n",
              "          await google.colab.output.renderOutput(dataTable, element);\n",
              "          const docLink = document.createElement('div');\n",
              "          docLink.innerHTML = docLinkHtml;\n",
              "          element.appendChild(docLink);\n",
              "        }\n",
              "      </script>\n",
              "    </div>\n",
              "  </div>\n",
              "  "
            ]
          },
          "metadata": {},
          "execution_count": 23
        }
      ]
    },
    {
      "cell_type": "markdown",
      "source": [
        "## Model sklearn\n",
        "Logistic Regression"
      ],
      "metadata": {
        "id": "Sv8dq_zaJKGf"
      }
    },
    {
      "cell_type": "code",
      "source": [
        "# Выделим X, y. X - это будет, наш обработанный текст, y -  наш класс\n",
        "\n",
        "y = train.labels.values\n",
        "X = train.drop(['class', 'text'], axis=1)"
      ],
      "metadata": {
        "execution": {
          "iopub.status.busy": "2022-07-10T12:48:13.117916Z",
          "iopub.execute_input": "2022-07-10T12:48:13.11828Z",
          "iopub.status.idle": "2022-07-10T12:48:13.12673Z",
          "shell.execute_reply.started": "2022-07-10T12:48:13.118249Z",
          "shell.execute_reply": "2022-07-10T12:48:13.125267Z"
        },
        "trusted": true,
        "id": "8fxt-HCjJKGf"
      },
      "execution_count": 25,
      "outputs": []
    },
    {
      "cell_type": "code",
      "source": [
        "#y = train.encoded_cat.values\n",
        "#X = train.drop(['encoded_cat', 'text'], axis=1)"
      ],
      "metadata": {
        "execution": {
          "iopub.status.busy": "2022-07-10T17:39:34.257546Z",
          "iopub.execute_input": "2022-07-10T17:39:34.257938Z",
          "iopub.status.idle": "2022-07-10T17:39:34.266392Z",
          "shell.execute_reply.started": "2022-07-10T17:39:34.257904Z",
          "shell.execute_reply": "2022-07-10T17:39:34.264956Z"
        },
        "trusted": true,
        "id": "p0bPOpoQJKGg"
      },
      "execution_count": null,
      "outputs": []
    },
    {
      "cell_type": "code",
      "source": [
        "## Разделим все данные на train test в соотношении 80/20\n",
        "\n",
        "X_train, X_test, y_train, y_test = train_test_split(X, y, test_size = 0.2, stratify=y)"
      ],
      "metadata": {
        "execution": {
          "iopub.status.busy": "2022-07-10T17:39:56.653746Z",
          "iopub.execute_input": "2022-07-10T17:39:56.654185Z",
          "iopub.status.idle": "2022-07-10T17:39:56.693731Z",
          "shell.execute_reply.started": "2022-07-10T17:39:56.654154Z",
          "shell.execute_reply": "2022-07-10T17:39:56.692597Z"
        },
        "trusted": true,
        "id": "AhRoyhmHJKGg"
      },
      "execution_count": 26,
      "outputs": []
    },
    {
      "cell_type": "markdown",
      "source": [
        "Необходимо преобразовать тест в токены, сделаем несколькими способами и посмотрим на результат"
      ],
      "metadata": {
        "id": "LFraFxC5JKGg"
      }
    },
    {
      "cell_type": "code",
      "source": [
        "## CountVectorizer преобразует текст в матрицу количества токенов\n",
        "\n",
        "from sklearn.feature_extraction.text import CountVectorizer\n",
        "\n",
        "vect = CountVectorizer()\n",
        "\n",
        "X_train_review_bow = vect.fit_transform(X_train['clean'])\n",
        "X_test_review_bow = vect.transform(X_test['clean'])\n",
        "X_sub_rev_bow = vect.transform(test['clean'])\n",
        "\n",
        "print('X_train_review_bow shape: ', X_train_review_bow.shape)\n",
        "print('X_test_review_bow shape: ', X_test_review_bow.shape)\n",
        "print('X_sub_review_bow shape: ', X_sub_rev_bow.shape)"
      ],
      "metadata": {
        "execution": {
          "iopub.status.busy": "2022-07-10T12:48:13.169926Z",
          "iopub.execute_input": "2022-07-10T12:48:13.170416Z",
          "iopub.status.idle": "2022-07-10T12:48:14.887697Z",
          "shell.execute_reply.started": "2022-07-10T12:48:13.170369Z",
          "shell.execute_reply": "2022-07-10T12:48:14.886556Z"
        },
        "trusted": true,
        "colab": {
          "base_uri": "https://localhost:8080/"
        },
        "id": "ChwcYfp2JKGh",
        "outputId": "c1c8450d-c34e-4cdb-a64e-2159873ec67f"
      },
      "execution_count": 27,
      "outputs": [
        {
          "output_type": "stream",
          "name": "stdout",
          "text": [
            "X_train_review_bow shape:  (47521, 40067)\n",
            "X_test_review_bow shape:  (11881, 40067)\n",
            "X_sub_review_bow shape:  (40000, 40067)\n"
          ]
        }
      ]
    },
    {
      "cell_type": "code",
      "source": [
        "## Tf-Idf преобразует текст в матрицу функций TF-IDF (частота обратная частоте документа)\n",
        "\n",
        "from sklearn.feature_extraction.text import TfidfVectorizer\n",
        "vectorizer = TfidfVectorizer()\n",
        "\n",
        "X_train_review_tfidf = vectorizer.fit_transform(X_train['clean'])\n",
        "X_test_review_tfidf = vectorizer.transform(X_test['clean'])\n",
        "X_sub_review_tfidf = vectorizer.transform(test['clean'])\n",
        "\n",
        "print('X_train_review_tfidf shape: ', X_train_review_tfidf.shape)\n",
        "print('X_test_review_tfidf shape: ', X_test_review_tfidf.shape)\n",
        "print('X_sub_review_tfidf shape: ', X_sub_review_tfidf.shape)"
      ],
      "metadata": {
        "execution": {
          "iopub.status.busy": "2022-07-10T17:41:19.332754Z",
          "iopub.execute_input": "2022-07-10T17:41:19.333179Z",
          "iopub.status.idle": "2022-07-10T17:41:21.543282Z",
          "shell.execute_reply.started": "2022-07-10T17:41:19.333132Z",
          "shell.execute_reply": "2022-07-10T17:41:21.542104Z"
        },
        "trusted": true,
        "colab": {
          "base_uri": "https://localhost:8080/"
        },
        "id": "XEm55TeZJKGh",
        "outputId": "720d009e-824d-4fcd-a7b9-795057f322d0"
      },
      "execution_count": 28,
      "outputs": [
        {
          "output_type": "stream",
          "name": "stdout",
          "text": [
            "X_train_review_tfidf shape:  (47521, 40067)\n",
            "X_test_review_tfidf shape:  (11881, 40067)\n",
            "X_sub_review_tfidf shape:  (40000, 40067)\n"
          ]
        }
      ]
    },
    {
      "cell_type": "code",
      "source": [
        "# Построим модель логистической регресии, в качестве метрики будем выводить accuracy и F1\n",
        "\n",
        "from sklearn.linear_model import LogisticRegression\n",
        "from sklearn.metrics import f1_score\n",
        "\n",
        "clf = LogisticRegression(multi_class='multinomial', solver='lbfgs', penalty='l2', random_state=42, max_iter=1000)\n",
        "clf.fit(X_train_review_tfidf, y_train)\n",
        "\n",
        "#y_pred = clf.predict(X_test_review_tfidf)\n",
        "y_pred = clf.predict(X_test_review_tfidf)\n",
        "print('Test F1: ', f1_score(y_test, y_pred, average='weighted'))"
      ],
      "metadata": {
        "execution": {
          "iopub.status.busy": "2022-07-10T12:48:16.649204Z",
          "iopub.execute_input": "2022-07-10T12:48:16.649589Z",
          "iopub.status.idle": "2022-07-10T12:49:27.175879Z",
          "shell.execute_reply.started": "2022-07-10T12:48:16.64956Z",
          "shell.execute_reply": "2022-07-10T12:49:27.174535Z"
        },
        "trusted": true,
        "colab": {
          "base_uri": "https://localhost:8080/"
        },
        "id": "vLeoU6zEJKGi",
        "outputId": "dacd2f56-2e2c-4be7-b441-0ea19b98be1d"
      },
      "execution_count": 29,
      "outputs": [
        {
          "output_type": "stream",
          "name": "stdout",
          "text": [
            "Test Accuracy:  0.8872990489016076\n",
            "Test F1:  0.8724557378339716\n"
          ]
        },
        {
          "output_type": "stream",
          "name": "stderr",
          "text": [
            "/usr/local/lib/python3.7/dist-packages/sklearn/linear_model/_logistic.py:818: ConvergenceWarning: lbfgs failed to converge (status=1):\n",
            "STOP: TOTAL NO. of ITERATIONS REACHED LIMIT.\n",
            "\n",
            "Increase the number of iterations (max_iter) or scale the data as shown in:\n",
            "    https://scikit-learn.org/stable/modules/preprocessing.html\n",
            "Please also refer to the documentation for alternative solver options:\n",
            "    https://scikit-learn.org/stable/modules/linear_model.html#logistic-regression\n",
            "  extra_warning_msg=_LOGISTIC_SOLVER_CONVERGENCE_MSG,\n"
          ]
        }
      ]
    },
    {
      "cell_type": "code",
      "source": [
        "clf = LogisticRegression(multi_class='multinomial', solver='lbfgs', penalty='l2', random_state=42, max_iter=1000)\n",
        "clf.fit(X_train_review_bow, y_train)\n",
        "\n",
        "y_pred = clf.predict(X_test_review_bow)\n",
        "\n",
        "print('Test F1: ', f1_score(y_test, y_pred, average='weighted'))"
      ],
      "metadata": {
        "execution": {
          "iopub.status.busy": "2022-07-08T14:12:52.289586Z",
          "iopub.execute_input": "2022-07-08T14:12:52.289863Z",
          "iopub.status.idle": "2022-07-08T14:13:50.559109Z",
          "shell.execute_reply.started": "2022-07-08T14:12:52.289835Z",
          "shell.execute_reply": "2022-07-08T14:13:50.557819Z"
        },
        "trusted": true,
        "colab": {
          "base_uri": "https://localhost:8080/"
        },
        "id": "m3Mw9S05JKGi",
        "outputId": "5ed54039-b100-48c0-a074-2d596afd46b3"
      },
      "execution_count": 31,
      "outputs": [
        {
          "output_type": "stream",
          "name": "stdout",
          "text": [
            "Test F1:  0.9097792179480577\n"
          ]
        }
      ]
    },
    {
      "cell_type": "markdown",
      "source": [
        "Попробуем другие модели sklearn"
      ],
      "metadata": {
        "id": "4ZuarPO-JKGj"
      }
    },
    {
      "cell_type": "code",
      "source": [
        "# C-классификация опорных векторов\n",
        "\n",
        "from sklearn.svm import SVC\n",
        "svclassifier = SVC(kernel='linear')\n",
        "svclassifier.fit(X_train_review_bow, y_train)\n",
        "y_pred_svc = svclassifier.predict(X_test_review_bow)\n",
        "\n",
        "print('Test F1: ', f1_score(y_test, y_pred, average='weighted'))"
      ],
      "metadata": {
        "execution": {
          "iopub.status.busy": "2022-07-08T14:13:50.560708Z",
          "iopub.execute_input": "2022-07-08T14:13:50.561022Z",
          "iopub.status.idle": "2022-07-08T14:17:35.422356Z",
          "shell.execute_reply.started": "2022-07-08T14:13:50.560994Z",
          "shell.execute_reply": "2022-07-08T14:17:35.421734Z"
        },
        "trusted": true,
        "colab": {
          "base_uri": "https://localhost:8080/"
        },
        "id": "wsq47HuEJKGj",
        "outputId": "13216fcf-ea57-4ae8-d678-9a6c570c5290"
      },
      "execution_count": 32,
      "outputs": [
        {
          "output_type": "stream",
          "name": "stdout",
          "text": [
            "Test F1:  0.9097792179480577\n"
          ]
        }
      ]
    },
    {
      "cell_type": "code",
      "source": [
        "# Классификатор, реализующий голосование k ближайших соседей\n",
        "\n",
        "from sklearn.neighbors import KNeighborsClassifier\n",
        "knn = KNeighborsClassifier(n_neighbors = 5)\n",
        "knn.fit(X_train_review_bow, y_train)\n",
        "y_pred = knn.predict(X_test_review_bow)\n",
        "\n",
        "print('Test F1: ', f1_score(y_test, y_pred, average='weighted'))"
      ],
      "metadata": {
        "execution": {
          "iopub.status.busy": "2022-07-08T14:17:35.42346Z",
          "iopub.execute_input": "2022-07-08T14:17:35.423926Z",
          "iopub.status.idle": "2022-07-08T14:17:48.71675Z",
          "shell.execute_reply.started": "2022-07-08T14:17:35.423901Z",
          "shell.execute_reply": "2022-07-08T14:17:48.715653Z"
        },
        "trusted": true,
        "id": "H0_EWEbtJKGj"
      },
      "execution_count": null,
      "outputs": []
    },
    {
      "cell_type": "code",
      "source": [
        "from sklearn import model_selection, preprocessing, metrics, linear_model, svm\n",
        "from imblearn.over_sampling import BorderlineSMOTE, SMOTE, ADASYN, SMOTENC, RandomOverSampler\n",
        "from imblearn.under_sampling import (RandomUnderSampler, \n",
        "                                    NearMiss, \n",
        "                                    InstanceHardnessThreshold,\n",
        "                                    CondensedNearestNeighbour,\n",
        "                                    EditedNearestNeighbours,\n",
        "                                    RepeatedEditedNearestNeighbours,\n",
        "                                    AllKNN,\n",
        "                                    NeighbourhoodCleaningRule,\n",
        "                                    OneSidedSelection,\n",
        "                                    TomekLinks)\n",
        "from imblearn.combine import SMOTEENN, SMOTETomek\n",
        "from imblearn.pipeline import make_pipeline"
      ],
      "metadata": {
        "execution": {
          "iopub.status.busy": "2022-07-10T17:41:48.369213Z",
          "iopub.execute_input": "2022-07-10T17:41:48.369572Z",
          "iopub.status.idle": "2022-07-10T17:41:48.598127Z",
          "shell.execute_reply.started": "2022-07-10T17:41:48.369543Z",
          "shell.execute_reply": "2022-07-10T17:41:48.597123Z"
        },
        "trusted": true,
        "id": "h6cd3DtkJKGk"
      },
      "execution_count": 34,
      "outputs": []
    },
    {
      "cell_type": "code",
      "source": [
        "def train_model(classifier, feature_vector_train, label, feature_vector_valid):\n",
        "    classifier.fit(feature_vector_train, label)\n",
        "\n",
        "    predictions = classifier.predict(feature_vector_valid)    \n",
        "\n",
        "    return metrics.f1_score(y_test, predictions, average='weighted')"
      ],
      "metadata": {
        "execution": {
          "iopub.status.busy": "2022-07-10T17:41:52.093294Z",
          "iopub.execute_input": "2022-07-10T17:41:52.093683Z",
          "iopub.status.idle": "2022-07-10T17:41:52.099179Z",
          "shell.execute_reply.started": "2022-07-10T17:41:52.093652Z",
          "shell.execute_reply": "2022-07-10T17:41:52.098455Z"
        },
        "trusted": true,
        "id": "rAn6DOGUJKGk"
      },
      "execution_count": 35,
      "outputs": []
    },
    {
      "cell_type": "code",
      "source": [
        "# Random Over-sampling: случайным образом дублируются некоторые элементы из миноритарного класса.\n",
        "# Random Over Sampling\n",
        "\n",
        "from collections import Counter\n",
        "ros = RandomOverSampler(random_state=777)\n",
        "ros_xtrain_tfidf, ros_train_y = ros.fit_resample(X_train_review_tfidf, y_train)\n",
        "#print('Resampled dataset shape %s' % Counter(ros_train_y))\n",
        "accuracyROS = train_model(linear_model.LogisticRegression(random_state=0, solver='lbfgs',multi_class='multinomial'),ros_xtrain_tfidf, ros_train_y, X_test_review_tfidf)\n",
        "print (\"Logistic regression ROS, WordLevel TFIDF: \", accuracyROS)"
      ],
      "metadata": {
        "execution": {
          "iopub.status.busy": "2022-07-10T13:57:30.212802Z",
          "iopub.execute_input": "2022-07-10T13:57:30.213238Z",
          "iopub.status.idle": "2022-07-10T14:08:27.821503Z",
          "shell.execute_reply.started": "2022-07-10T13:57:30.213206Z",
          "shell.execute_reply": "2022-07-10T14:08:27.820625Z"
        },
        "trusted": true,
        "colab": {
          "base_uri": "https://localhost:8080/"
        },
        "id": "9J2r1lwkJKGk",
        "outputId": "f6d54131-376d-4c46-adcb-5e1320e854ee"
      },
      "execution_count": 41,
      "outputs": [
        {
          "output_type": "stream",
          "name": "stdout",
          "text": [
            "Logistic regression ROS, WordLevel TFIDF:  0.8991637315885191\n"
          ]
        },
        {
          "output_type": "stream",
          "name": "stderr",
          "text": [
            "/usr/local/lib/python3.7/dist-packages/sklearn/linear_model/_logistic.py:818: ConvergenceWarning: lbfgs failed to converge (status=1):\n",
            "STOP: TOTAL NO. of ITERATIONS REACHED LIMIT.\n",
            "\n",
            "Increase the number of iterations (max_iter) or scale the data as shown in:\n",
            "    https://scikit-learn.org/stable/modules/preprocessing.html\n",
            "Please also refer to the documentation for alternative solver options:\n",
            "    https://scikit-learn.org/stable/modules/linear_model.html#logistic-regression\n",
            "  extra_warning_msg=_LOGISTIC_SOLVER_CONVERGENCE_MSG,\n"
          ]
        }
      ]
    },
    {
      "cell_type": "code",
      "source": [
        "ros = RandomOverSampler(random_state=777)\n",
        "ros_xtrain_bow, ros_train_y = ros.fit_resample(X_train_review_bow, y_train)\n",
        "#print('Resampled dataset shape %s' % Counter(ros_train_y))\n",
        "accuracyROS = train_model(linear_model.LogisticRegression(random_state=0, solver='lbfgs',multi_class='multinomial'),ros_xtrain_bow, ros_train_y, X_test_review_bow)\n",
        "print (\"Logistic regression ROS, WordLevel BOW: \", accuracyROS)"
      ],
      "metadata": {
        "colab": {
          "base_uri": "https://localhost:8080/"
        },
        "id": "uUkAiiW6dKsY",
        "outputId": "a155f351-9fd0-41a1-9c0c-32f8d16d1093"
      },
      "execution_count": 46,
      "outputs": [
        {
          "output_type": "stream",
          "name": "stdout",
          "text": [
            "Logistic regression ROS, WordLevel BOW:  0.9015411346007323\n"
          ]
        },
        {
          "output_type": "stream",
          "name": "stderr",
          "text": [
            "/usr/local/lib/python3.7/dist-packages/sklearn/linear_model/_logistic.py:818: ConvergenceWarning: lbfgs failed to converge (status=1):\n",
            "STOP: TOTAL NO. of ITERATIONS REACHED LIMIT.\n",
            "\n",
            "Increase the number of iterations (max_iter) or scale the data as shown in:\n",
            "    https://scikit-learn.org/stable/modules/preprocessing.html\n",
            "Please also refer to the documentation for alternative solver options:\n",
            "    https://scikit-learn.org/stable/modules/linear_model.html#logistic-regression\n",
            "  extra_warning_msg=_LOGISTIC_SOLVER_CONVERGENCE_MSG,\n"
          ]
        }
      ]
    },
    {
      "cell_type": "code",
      "source": [
        "sm = SMOTE(k_neighbors=1)\n",
        "sm_xtrain_tfidf, sm_train_y = sm.fit_resample(X_train_review_tfidf, y_train)\n",
        "accuracySMOTE = train_model(linear_model.LogisticRegression(random_state=0, solver='lbfgs',multi_class='multinomial'),sm_xtrain_tfidf, sm_train_y, X_test_review_tfidf)\n",
        "print (\"Logistic regression SMOTE, WordLevel TFIDF: \", accuracySMOTE)"
      ],
      "metadata": {
        "execution": {
          "iopub.status.busy": "2022-07-10T14:56:26.531095Z",
          "iopub.execute_input": "2022-07-10T14:56:26.531484Z",
          "iopub.status.idle": "2022-07-10T15:09:12.70393Z",
          "shell.execute_reply.started": "2022-07-10T14:56:26.531452Z",
          "shell.execute_reply": "2022-07-10T15:09:12.702542Z"
        },
        "trusted": true,
        "colab": {
          "base_uri": "https://localhost:8080/"
        },
        "id": "t9D3So9uJKGl",
        "outputId": "26ca6863-cd25-471e-b437-6fbf1295131f"
      },
      "execution_count": 42,
      "outputs": [
        {
          "output_type": "stream",
          "name": "stdout",
          "text": [
            "Logistic regression SMOTE, WordLevel TFIDF:  0.9007812919692348\n"
          ]
        },
        {
          "output_type": "stream",
          "name": "stderr",
          "text": [
            "/usr/local/lib/python3.7/dist-packages/sklearn/linear_model/_logistic.py:818: ConvergenceWarning: lbfgs failed to converge (status=1):\n",
            "STOP: TOTAL NO. of ITERATIONS REACHED LIMIT.\n",
            "\n",
            "Increase the number of iterations (max_iter) or scale the data as shown in:\n",
            "    https://scikit-learn.org/stable/modules/preprocessing.html\n",
            "Please also refer to the documentation for alternative solver options:\n",
            "    https://scikit-learn.org/stable/modules/linear_model.html#logistic-regression\n",
            "  extra_warning_msg=_LOGISTIC_SOLVER_CONVERGENCE_MSG,\n"
          ]
        }
      ]
    },
    {
      "cell_type": "markdown",
      "source": [
        "Гипер параметры"
      ],
      "metadata": {
        "id": "lLl8Y5jRJKGl"
      }
    },
    {
      "cell_type": "code",
      "source": [
        "from sklearn.model_selection import RepeatedStratifiedKFold\n",
        "from sklearn.model_selection import GridSearchCV\n",
        "from sklearn.linear_model import LogisticRegression\n",
        "\n",
        "\"\"\"model = LogisticRegression(multi_class='multinomial', penalty='l2', random_state=42)\n",
        "#penalty = ['l1','l2']\n",
        "solver = ['newton-cg', 'sag', 'saga', 'lbfgs']\n",
        "cv = RepeatedStratifiedKFold(n_splits=10, n_repeats=3, random_state=42)\n",
        "alpha = [0.1, 0.2, 0.3, 0.4, 0.5, 0.6, 0.7, 0.8, 0.9, 1.0]\n",
        "grid = dict(alpha=alpha)\n",
        "c_values = [100, 10, 1.0]\n",
        "#param_grid = {'C':[1, 10]}\n",
        "param_grid = dict(C=c_values, solver=solver)\n",
        "grid_search = GridSearchCV(estimator=model, param_grid=param_grid, verbose=10, cv=cv, scoring='accuracy', error_score=0)\n",
        "grid_search.fit(X_train_review_bow, y_train)\n",
        "#print(\"Best: %f using %s\" % (grid_search.best_params_))\"\"\""
      ],
      "metadata": {
        "execution": {
          "iopub.status.busy": "2022-06-30T06:34:20.960537Z",
          "iopub.execute_input": "2022-06-30T06:34:20.960901Z",
          "iopub.status.idle": "2022-06-30T06:34:20.969802Z",
          "shell.execute_reply.started": "2022-06-30T06:34:20.960871Z",
          "shell.execute_reply": "2022-06-30T06:34:20.968694Z"
        },
        "trusted": true,
        "id": "eA0SIR-eJKGl"
      },
      "execution_count": null,
      "outputs": []
    },
    {
      "cell_type": "code",
      "source": [
        "from sklearn.linear_model import LogisticRegression\n",
        "from sklearn.calibration import calibration_curve\n",
        "\n",
        "clf = LogisticRegression(multi_class='multinomial', solver='newton-cg', penalty='l2', C = 10, random_state=42)\n",
        "clf.fit(X_train_review_bow, y_train)\n",
        "\n",
        "y_pred = clf.predict(X_test_review_bow)\n",
        "\n",
        "print('Test F1: ', f1_score(y_test, y_pred, average='weighted'))\n",
        "#prob_true, prob_pred = calibration_curve(y_test, y_pred, n_bins=5)\n",
        "#print(prob_true)\n",
        "#print(prob_pred)"
      ],
      "metadata": {
        "execution": {
          "iopub.status.busy": "2022-07-08T14:17:48.718151Z",
          "iopub.execute_input": "2022-07-08T14:17:48.718455Z",
          "iopub.status.idle": "2022-07-08T14:20:05.12432Z",
          "shell.execute_reply.started": "2022-07-08T14:17:48.718422Z",
          "shell.execute_reply": "2022-07-08T14:20:05.123587Z"
        },
        "trusted": true,
        "colab": {
          "base_uri": "https://localhost:8080/"
        },
        "id": "YAw5UjS7JKGm",
        "outputId": "c917178f-8b7b-4e0c-9772-b206607531a9"
      },
      "execution_count": 44,
      "outputs": [
        {
          "output_type": "stream",
          "name": "stdout",
          "text": [
            "Test F1:  0.9073548376632803\n"
          ]
        }
      ]
    },
    {
      "cell_type": "code",
      "source": [
        "from sklearn.linear_model import LogisticRegression\n",
        "\n",
        "clf = LogisticRegression(multi_class='multinomial', solver='saga', penalty='l2', C = 100, random_state=42, max_iter=1000)\n",
        "clf.fit(X_train_review_bow, y_train)\n",
        "\n",
        "y_pred = clf.predict(X_test_review_bow)\n",
        "\n",
        "print('Test F1: ', f1_score(y_test, y_pred, average='weighted'))"
      ],
      "metadata": {
        "execution": {
          "iopub.status.busy": "2022-07-08T14:20:05.127028Z",
          "iopub.execute_input": "2022-07-08T14:20:05.12749Z",
          "iopub.status.idle": "2022-07-08T14:20:36.47597Z",
          "shell.execute_reply.started": "2022-07-08T14:20:05.12746Z",
          "shell.execute_reply": "2022-07-08T14:20:36.474942Z"
        },
        "trusted": true,
        "colab": {
          "base_uri": "https://localhost:8080/"
        },
        "id": "a0HgaH-ZJKGm",
        "outputId": "50b69573-be84-423a-ad06-403abf3f7c6a"
      },
      "execution_count": 45,
      "outputs": [
        {
          "output_type": "stream",
          "name": "stdout",
          "text": [
            "Test F1:  0.9071339575992307\n"
          ]
        },
        {
          "output_type": "stream",
          "name": "stderr",
          "text": [
            "/usr/local/lib/python3.7/dist-packages/sklearn/linear_model/_sag.py:354: ConvergenceWarning: The max_iter was reached which means the coef_ did not converge\n",
            "  ConvergenceWarning,\n"
          ]
        }
      ]
    },
    {
      "cell_type": "markdown",
      "source": [
        "Стекинг"
      ],
      "metadata": {
        "id": "GDQnne0AJKGn"
      }
    },
    {
      "cell_type": "code",
      "source": [
        "from sklearn.ensemble import StackingClassifier\n",
        "#from sklearn.datasets import load_breast_cancer\n",
        "from sklearn.linear_model import LogisticRegression\n",
        "from sklearn.tree import DecisionTreeClassifier\n",
        "from sklearn.svm import SVC\n",
        "from sklearn.model_selection import train_test_split\n",
        "\n",
        "#data, target = load_breast_cancer(return_X_y=True)\n",
        "\n",
        "estimators = [('lr', LogisticRegression(multi_class='multinomial', solver='lbfgs', penalty='l2', random_state=42, max_iter=1000)), ('svc', SVC(kernel='linear'))]\n",
        "modelClf = StackingClassifier(estimators=estimators, final_estimator=LogisticRegression())\n",
        "\n",
        "#X_train, X_valid, y_train, y_valid = train_test_split(data, target, test_size=0.3, random_state=12)\n",
        "\n",
        "modelClf.fit(X_train_review_bow, y_train)\n",
        "y_pred = clf.predict(X_test_review_bow)\n",
        "\n",
        "print('Test F1: ', f1_score(y_test, y_pred, average='weighted'))\n",
        "#print(modelClf.score(X_valid, y_valid))"
      ],
      "metadata": {
        "execution": {
          "iopub.status.busy": "2022-06-30T06:37:06.848192Z",
          "iopub.execute_input": "2022-06-30T06:37:06.849159Z",
          "iopub.status.idle": "2022-06-30T07:00:09.912727Z",
          "shell.execute_reply.started": "2022-06-30T06:37:06.849099Z",
          "shell.execute_reply": "2022-06-30T07:00:09.907524Z"
        },
        "trusted": true,
        "colab": {
          "base_uri": "https://localhost:8080/"
        },
        "id": "NfII4t9CJKGn",
        "outputId": "d7f0cf79-9105-4f3d-8a21-b5241f7ae73b"
      },
      "execution_count": 49,
      "outputs": [
        {
          "output_type": "stream",
          "name": "stderr",
          "text": [
            "/usr/local/lib/python3.7/dist-packages/sklearn/model_selection/_split.py:680: UserWarning: The least populated class in y has only 2 members, which is less than n_splits=5.\n",
            "  UserWarning,\n",
            "/usr/local/lib/python3.7/dist-packages/sklearn/model_selection/_split.py:680: UserWarning: The least populated class in y has only 2 members, which is less than n_splits=5.\n",
            "  UserWarning,\n"
          ]
        },
        {
          "output_type": "stream",
          "name": "stdout",
          "text": [
            "Test Accuracy:  0.910192744718458\n",
            "Test F1:  0.9071339575992307\n"
          ]
        },
        {
          "output_type": "stream",
          "name": "stderr",
          "text": [
            "/usr/local/lib/python3.7/dist-packages/sklearn/linear_model/_logistic.py:818: ConvergenceWarning: lbfgs failed to converge (status=1):\n",
            "STOP: TOTAL NO. of ITERATIONS REACHED LIMIT.\n",
            "\n",
            "Increase the number of iterations (max_iter) or scale the data as shown in:\n",
            "    https://scikit-learn.org/stable/modules/preprocessing.html\n",
            "Please also refer to the documentation for alternative solver options:\n",
            "    https://scikit-learn.org/stable/modules/linear_model.html#logistic-regression\n",
            "  extra_warning_msg=_LOGISTIC_SOLVER_CONVERGENCE_MSG,\n"
          ]
        }
      ]
    },
    {
      "cell_type": "markdown",
      "source": [
        "## Bert TenzorFlow"
      ],
      "metadata": {
        "id": "aBlk7lzeJKGn"
      }
    },
    {
      "cell_type": "code",
      "source": [
        "!pip install transformers\n",
        "!pip install pytorch\n",
        "!pip install pytorch-transformers"
      ],
      "metadata": {
        "execution": {
          "iopub.status.busy": "2022-07-12T10:45:10.458712Z",
          "iopub.execute_input": "2022-07-12T10:45:10.459110Z",
          "iopub.status.idle": "2022-07-12T10:45:48.010797Z",
          "shell.execute_reply.started": "2022-07-12T10:45:10.459075Z",
          "shell.execute_reply": "2022-07-12T10:45:48.009470Z"
        },
        "trusted": true,
        "id": "7u1FPf4SJKGo"
      },
      "execution_count": null,
      "outputs": []
    },
    {
      "cell_type": "code",
      "source": [
        "import transformers\n",
        "from transformers import DistilBertTokenizer\n",
        "from transformers import DistilBertModel, DistilBertConfig\n",
        "from transformers import TFDistilBertForSequenceClassification\n",
        "import json\n",
        "import gc"
      ],
      "metadata": {
        "execution": {
          "iopub.status.busy": "2022-07-12T10:45:48.014426Z",
          "iopub.execute_input": "2022-07-12T10:45:48.015016Z",
          "iopub.status.idle": "2022-07-12T10:45:48.022532Z",
          "shell.execute_reply.started": "2022-07-12T10:45:48.014955Z",
          "shell.execute_reply": "2022-07-12T10:45:48.021029Z"
        },
        "trusted": true,
        "id": "tvEg303-JKGo"
      },
      "execution_count": null,
      "outputs": []
    },
    {
      "cell_type": "markdown",
      "source": [
        "## Distill-Bert fine-tuning - Huggingface and Pytorch"
      ],
      "metadata": {
        "id": "7GzcaDn9JKGo"
      }
    },
    {
      "cell_type": "code",
      "source": [
        "!pip install datasets\n",
        "from torch.utils.data import Dataset, DataLoader\n",
        "import torch.nn as nn\n",
        "from datasets import Dataset\n",
        "from sklearn.model_selection import train_test_split"
      ],
      "metadata": {
        "execution": {
          "iopub.status.busy": "2022-07-12T10:45:48.024202Z",
          "iopub.execute_input": "2022-07-12T10:45:48.024657Z",
          "iopub.status.idle": "2022-07-12T10:46:00.156291Z",
          "shell.execute_reply.started": "2022-07-12T10:45:48.024604Z",
          "shell.execute_reply": "2022-07-12T10:46:00.154729Z"
        },
        "trusted": true,
        "id": "DH8kPBV7JKGo"
      },
      "execution_count": null,
      "outputs": []
    },
    {
      "cell_type": "markdown",
      "source": [
        "## DistilBert Freeze"
      ],
      "metadata": {
        "id": "zy8Ums41JKGp"
      }
    },
    {
      "cell_type": "code",
      "source": [
        "def hamming_score(y_true, y_pred, normalize=True, sample_weight=None):\n",
        "    acc_list = []\n",
        "    for i in range(y_true.shape[0]):\n",
        "        set_true = set( np.where(y_true[i])[0] )\n",
        "        set_pred = set( np.where(y_pred[i])[0] )\n",
        "        tmp_a = None\n",
        "        if len(set_true) == 0 and len(set_pred) == 0:\n",
        "            tmp_a = 1\n",
        "        else:\n",
        "            tmp_a = len(set_true.intersection(set_pred))/\\\n",
        "                    float( len(set_true.union(set_pred)) )\n",
        "        acc_list.append(tmp_a)\n",
        "    return np.mean(acc_list)"
      ],
      "metadata": {
        "execution": {
          "iopub.status.busy": "2022-07-12T10:46:00.158707Z",
          "iopub.execute_input": "2022-07-12T10:46:00.159620Z",
          "iopub.status.idle": "2022-07-12T10:46:00.168624Z",
          "shell.execute_reply.started": "2022-07-12T10:46:00.159578Z",
          "shell.execute_reply": "2022-07-12T10:46:00.167257Z"
        },
        "trusted": true,
        "id": "3PnNzGJBJKGp"
      },
      "execution_count": null,
      "outputs": []
    },
    {
      "cell_type": "code",
      "source": [
        "#train.drop([['class', 'encoded_cat']], axis=1, inplace=True)\n",
        "train.sample(3)"
      ],
      "metadata": {
        "execution": {
          "iopub.status.busy": "2022-07-11T00:39:24.784473Z",
          "iopub.execute_input": "2022-07-11T00:39:24.784811Z",
          "iopub.status.idle": "2022-07-11T00:39:24.806632Z",
          "shell.execute_reply.started": "2022-07-11T00:39:24.784781Z",
          "shell.execute_reply": "2022-07-11T00:39:24.804962Z"
        },
        "trusted": true,
        "id": "bKJf9eNlJKGp"
      },
      "execution_count": null,
      "outputs": []
    },
    {
      "cell_type": "code",
      "source": [
        "# Применяем get_dumies для таргета\n",
        "train_class = pd.get_dummies(train, columns=['class'])\n",
        "train_class.sample(3)"
      ],
      "metadata": {
        "execution": {
          "iopub.status.busy": "2022-07-12T10:46:00.170455Z",
          "iopub.execute_input": "2022-07-12T10:46:00.170810Z",
          "iopub.status.idle": "2022-07-12T10:46:00.248704Z",
          "shell.execute_reply.started": "2022-07-12T10:46:00.170775Z",
          "shell.execute_reply": "2022-07-12T10:46:00.247378Z"
        },
        "trusted": true,
        "id": "OCsRIGFYJKGq"
      },
      "execution_count": null,
      "outputs": []
    },
    {
      "cell_type": "code",
      "source": [
        "#train['labels'] = train_class['encoded_cat'].values.tolist()\n",
        "train"
      ],
      "metadata": {
        "execution": {
          "iopub.status.busy": "2022-07-11T11:28:01.463508Z",
          "iopub.execute_input": "2022-07-11T11:28:01.463879Z",
          "iopub.status.idle": "2022-07-11T11:28:01.479303Z",
          "shell.execute_reply.started": "2022-07-11T11:28:01.463849Z",
          "shell.execute_reply": "2022-07-11T11:28:01.478071Z"
        },
        "trusted": true,
        "id": "hYDZ2Fu7JKGq"
      },
      "execution_count": null,
      "outputs": []
    },
    {
      "cell_type": "code",
      "source": [
        "import torch\n",
        "import torch.nn as nn\n",
        "from transformers import AutoTokenizer, AutoModel\n",
        "\n",
        "MAX_LEN = 256\n",
        "TRAIN_BATCH_SIZE = 32\n",
        "VALID_BATCH_SIZE = 32\n",
        "EPOCHS = 15\n",
        "LEARNING_RATE = 2e-05\n",
        "\n",
        "tokenizer = AutoTokenizer.from_pretrained(\"cointegrated/rubert-tiny\")\n",
        "#tokenizer = AutoTokenizer.from_pretrained(\"DeepPavlov/rubert-base-cased-sentence\")\n",
        "#tokenizer = DistilBertTokenizer.from_pretrained('distilbert-base-uncased', truncation=True, do_lower_case=True)\n",
        "#rubert = AutoModel.from_pretrained('DeepPavlov/rubert-base-cased-sentence')\n",
        "bert = AutoModel.from_pretrained(\"cointegrated/rubert-tiny\")\n",
        "#distilbert = DistilBertModel.from_pretrained(\"distilbert-base-uncased\")"
      ],
      "metadata": {
        "execution": {
          "iopub.status.busy": "2022-07-12T10:46:19.413117Z",
          "iopub.execute_input": "2022-07-12T10:46:19.414242Z",
          "iopub.status.idle": "2022-07-12T10:46:23.642045Z",
          "shell.execute_reply.started": "2022-07-12T10:46:19.414188Z",
          "shell.execute_reply": "2022-07-12T10:46:23.640713Z"
        },
        "trusted": true,
        "id": "DavW6xHDJKGq"
      },
      "execution_count": null,
      "outputs": []
    },
    {
      "cell_type": "code",
      "source": [
        "from torch import nn\n",
        "#from transformers import BertModel\n",
        "from torch.utils.data import Dataset, DataLoader\n",
        "\n",
        "class MultiLabelDataset(Dataset):\n",
        "\n",
        "    def __init__(self, dataframe, tokenizer, max_len):\n",
        "        self.tokenizer = tokenizer\n",
        "        self.data = dataframe\n",
        "        self.text = dataframe.text\n",
        "        self.targets = self.data.labels\n",
        "        self.max_len = max_len\n",
        "\n",
        "    def __len__(self):\n",
        "        return len(self.text)\n",
        "\n",
        "    def __getitem__(self, index):\n",
        "        text = str(self.text[index])\n",
        "        text = \" \".join(text.split())\n",
        "\n",
        "        inputs = self.tokenizer.encode_plus(\n",
        "            text,\n",
        "            None,\n",
        "            add_special_tokens=True,\n",
        "            max_length=self.max_len,\n",
        "            pad_to_max_length=True, # Устарел\n",
        "            #padding= 'max_length',\n",
        "            return_token_type_ids=True\n",
        "        )\n",
        "        ids = inputs['input_ids']\n",
        "        mask = inputs['attention_mask']\n",
        "        token_type_ids = inputs[\"token_type_ids\"]\n",
        "\n",
        "\n",
        "        return {\n",
        "            'ids': torch.tensor(ids, dtype=torch.long),\n",
        "            'mask': torch.tensor(mask, dtype=torch.long),\n",
        "            'token_type_ids': torch.tensor(token_type_ids, dtype=torch.long),\n",
        "            'targets': torch.tensor(self.targets[index], dtype=torch.float)\n",
        "        }"
      ],
      "metadata": {
        "execution": {
          "iopub.status.busy": "2022-07-12T10:46:27.189160Z",
          "iopub.execute_input": "2022-07-12T10:46:27.190238Z",
          "iopub.status.idle": "2022-07-12T10:46:27.203006Z",
          "shell.execute_reply.started": "2022-07-12T10:46:27.190187Z",
          "shell.execute_reply": "2022-07-12T10:46:27.201955Z"
        },
        "trusted": true,
        "id": "8yWFsFFLJKGq"
      },
      "execution_count": null,
      "outputs": []
    },
    {
      "cell_type": "code",
      "source": [
        "# Создаем dataset и dataloader для нейронной сети\n",
        "\n",
        "train_size = 0.8\n",
        "train_data=train.sample(frac=train_size,random_state=200)\n",
        "test_data=train.drop(train_data.index).reset_index(drop=True)\n",
        "train_data = train_data.reset_index(drop=True)\n",
        "\n",
        "\n",
        "print(\"FULL Dataset: {}\".format(train.shape))\n",
        "print(\"TRAIN Dataset: {}\".format(train_data.shape))\n",
        "print(\"TEST Dataset: {}\".format(test_data.shape))\n",
        "\n",
        "training_set = MultiLabelDataset(train_data, tokenizer, MAX_LEN)\n",
        "testing_set = MultiLabelDataset(test_data, tokenizer, MAX_LEN)"
      ],
      "metadata": {
        "execution": {
          "iopub.status.busy": "2022-07-12T10:46:28.962524Z",
          "iopub.execute_input": "2022-07-12T10:46:28.963921Z",
          "iopub.status.idle": "2022-07-12T10:46:29.021128Z",
          "shell.execute_reply.started": "2022-07-12T10:46:28.963852Z",
          "shell.execute_reply": "2022-07-12T10:46:29.019798Z"
        },
        "trusted": true,
        "id": "4w3ZU-pRJKGr"
      },
      "execution_count": null,
      "outputs": []
    },
    {
      "cell_type": "code",
      "source": [
        "train_params = {'batch_size': TRAIN_BATCH_SIZE,\n",
        "                'shuffle': True,\n",
        "                'num_workers': 0\n",
        "                }\n",
        "\n",
        "test_params = {'batch_size': VALID_BATCH_SIZE,\n",
        "                'shuffle': True,\n",
        "                'num_workers': 0\n",
        "                }\n",
        "\n",
        "training_loader = DataLoader(training_set, **train_params)\n",
        "testing_loader = DataLoader(testing_set, **test_params)"
      ],
      "metadata": {
        "execution": {
          "iopub.status.busy": "2022-07-12T10:46:33.700156Z",
          "iopub.execute_input": "2022-07-12T10:46:33.701420Z",
          "iopub.status.idle": "2022-07-12T10:46:33.710501Z",
          "shell.execute_reply.started": "2022-07-12T10:46:33.701356Z",
          "shell.execute_reply": "2022-07-12T10:46:33.708976Z"
        },
        "trusted": true,
        "id": "Y5pLIsXDJKGr"
      },
      "execution_count": null,
      "outputs": []
    },
    {
      "cell_type": "code",
      "source": [
        "# замораживаем слои\n",
        "\n",
        "#for param in distilbert.parameters():\n",
        "for param in bert.parameters():\n",
        "    param.requires_grad = False"
      ],
      "metadata": {
        "execution": {
          "iopub.status.busy": "2022-07-12T10:46:35.655351Z",
          "iopub.execute_input": "2022-07-12T10:46:35.656200Z",
          "iopub.status.idle": "2022-07-12T10:46:35.663587Z",
          "shell.execute_reply.started": "2022-07-12T10:46:35.656138Z",
          "shell.execute_reply": "2022-07-12T10:46:35.662136Z"
        },
        "trusted": true,
        "id": "3ewFqVnTJKGr"
      },
      "execution_count": null,
      "outputs": []
    },
    {
      "cell_type": "code",
      "source": [
        "# solved\n",
        "#sum(param.numel() for param in bert.parameters() if param.requires_grad)"
      ],
      "metadata": {
        "execution": {
          "iopub.status.busy": "2022-07-10T11:22:00.6555Z",
          "iopub.execute_input": "2022-07-10T11:22:00.656175Z",
          "iopub.status.idle": "2022-07-10T11:22:00.663608Z",
          "shell.execute_reply.started": "2022-07-10T11:22:00.656139Z",
          "shell.execute_reply": "2022-07-10T11:22:00.66257Z"
        },
        "trusted": true,
        "id": "w51N0LrTJKGs"
      },
      "execution_count": null,
      "outputs": []
    },
    {
      "cell_type": "code",
      "source": [
        "from torch import cuda\n",
        "device = 'cuda' if cuda.is_available() else 'cpu'"
      ],
      "metadata": {
        "execution": {
          "iopub.status.busy": "2022-07-12T10:46:39.132845Z",
          "iopub.execute_input": "2022-07-12T10:46:39.133332Z",
          "iopub.status.idle": "2022-07-12T10:46:39.138608Z",
          "shell.execute_reply.started": "2022-07-12T10:46:39.133295Z",
          "shell.execute_reply": "2022-07-12T10:46:39.137620Z"
        },
        "trusted": true,
        "id": "69Y-NIrXJKGs"
      },
      "execution_count": null,
      "outputs": []
    },
    {
      "cell_type": "code",
      "source": [
        "# Создаем Class для нашей модели\n",
        "# Здесь я использовал 2 линейных слоя поверх модели DistilBERT с блоком отсева и ReLu в качестве функции активации. \n",
        "# num_classes будет количеством классов, доступных в вашем наборе данных. Модель вернет логит-оценки для каждого класса\n",
        "\n",
        "class DistilBERTClass(torch.nn.Module):\n",
        "    def __init__(self):\n",
        "        super(DistilBERTClass, self).__init__()\n",
        "        self.bert = bert\n",
        "        #self.distilbert = distilbert\n",
        "        #self.l1 = AutoModel.from_pretrained(\"cointegrated/rubert-tiny\")\n",
        "        self.pre_classifier = torch.nn.Linear(312, 312)\n",
        "        self.dropout = torch.nn.Dropout(0.1)\n",
        "        \n",
        "        self.relu = nn.ReLU()\n",
        "        #self.pre_classifier = torch.nn.Linear(312, 312)\n",
        "        self.classifier = torch.nn.Linear(312, 50)\n",
        "\n",
        "    def forward(self, input_ids, attention_mask, token_type_ids):\n",
        "        bert_output = self.bert(input_ids=input_ids, attention_mask=attention_mask)\n",
        "        last_hidden_state = bert_output.last_hidden_state[:, 0, :] # hidden_state = output_1[0]\n",
        "        #pooler = hidden_state[:, 0]\n",
        "        pooler = self.pre_classifier(last_hidden_state)\n",
        "        pooler = self.relu(pooler)\n",
        "        #pooler = torch.nn.Tanh()(pooler)\n",
        "        pooler = self.dropout(pooler)\n",
        "        output = self.classifier(pooler)\n",
        "        return output\n",
        "\n",
        "model = DistilBERTClass()\n",
        "model.to(device)"
      ],
      "metadata": {
        "execution": {
          "iopub.status.busy": "2022-07-12T10:53:35.887849Z",
          "iopub.execute_input": "2022-07-12T10:53:35.888376Z",
          "iopub.status.idle": "2022-07-12T10:53:35.909653Z",
          "shell.execute_reply.started": "2022-07-12T10:53:35.888336Z",
          "shell.execute_reply": "2022-07-12T10:53:35.908306Z"
        },
        "trusted": true,
        "id": "FYB4B97OJKGs"
      },
      "execution_count": null,
      "outputs": []
    },
    {
      "cell_type": "code",
      "source": [
        "for name, param in model.named_parameters():                \n",
        "    if param.requires_grad:\n",
        "        print(name)"
      ],
      "metadata": {
        "execution": {
          "iopub.status.busy": "2022-07-10T11:22:12.401243Z",
          "iopub.execute_input": "2022-07-10T11:22:12.401646Z",
          "iopub.status.idle": "2022-07-10T11:22:12.408105Z",
          "shell.execute_reply.started": "2022-07-10T11:22:12.401614Z",
          "shell.execute_reply": "2022-07-10T11:22:12.406938Z"
        },
        "trusted": true,
        "id": "CCGf1hP5JKGt"
      },
      "execution_count": null,
      "outputs": []
    },
    {
      "cell_type": "code",
      "source": [
        "def loss_fn(outputs, targets):\n",
        "    return torch.nn.BCEWithLogitsLoss()(outputs, targets)\n",
        "optimizer = torch.optim.AdamW(params =  model.parameters(), eps=1e-8, lr=LEARNING_RATE)"
      ],
      "metadata": {
        "execution": {
          "iopub.status.busy": "2022-07-11T11:25:22.502361Z",
          "iopub.execute_input": "2022-07-11T11:25:22.502741Z",
          "iopub.status.idle": "2022-07-11T11:25:22.509343Z",
          "shell.execute_reply.started": "2022-07-11T11:25:22.502711Z",
          "shell.execute_reply": "2022-07-11T11:25:22.507899Z"
        },
        "trusted": true,
        "id": "dFuN4OktJKGt"
      },
      "execution_count": null,
      "outputs": []
    },
    {
      "cell_type": "code",
      "source": [
        "from transformers import get_linear_schedule_with_warmup\n",
        "\n",
        "#epochs = 4\n",
        "#total_steps = len(training_loader) * EPOCHS\n",
        "# Create the learning rate scheduler.\n",
        "#scheduler = get_linear_schedule_with_warmup(optimizer, \n",
        "                                         #   num_warmup_steps = 0, # Default value in run_glue.py\n",
        "                                          #  num_training_steps = total_steps)"
      ],
      "metadata": {
        "execution": {
          "iopub.status.busy": "2022-07-12T10:47:58.992642Z",
          "iopub.execute_input": "2022-07-12T10:47:58.993376Z",
          "iopub.status.idle": "2022-07-12T10:47:58.998479Z",
          "shell.execute_reply.started": "2022-07-12T10:47:58.993333Z",
          "shell.execute_reply": "2022-07-12T10:47:58.997381Z"
        },
        "trusted": true,
        "id": "39Eh5CUlJKGt"
      },
      "execution_count": null,
      "outputs": []
    },
    {
      "cell_type": "code",
      "source": [
        "val_hamming_loss = metrics.hamming_loss(targets, final_outputs)\n",
        "val_hamming_score = hamming_score(np.array(targets), np.array(final_outputs))\n",
        "f1_m = f1_score(targets, final_outputs, average='weighted', zero_division = 1)"
      ],
      "metadata": {
        "execution": {
          "iopub.status.busy": "2022-07-12T10:48:41.223893Z",
          "iopub.execute_input": "2022-07-12T10:48:41.224403Z",
          "iopub.status.idle": "2022-07-12T10:48:41.275102Z",
          "shell.execute_reply.started": "2022-07-12T10:48:41.224363Z",
          "shell.execute_reply": "2022-07-12T10:48:41.273467Z"
        },
        "trusted": true,
        "id": "ehwmAMRiJKGu"
      },
      "execution_count": null,
      "outputs": []
    },
    {
      "cell_type": "code",
      "source": [
        "# Defining the training function on the 80% of the dataset for tuning the distilbert model\n",
        "\n",
        "def train(epoch):\n",
        "    tr_loss = 0\n",
        "    n_correct = 0\n",
        "    nb_tr_steps = 0\n",
        "    nb_tr_examples = 0\n",
        "    model.train()\n",
        "    for _,data in enumerate(training_loader, 0):\n",
        "        ids = data['ids'].to(device, dtype = torch.long)\n",
        "        mask = data['mask'].to(device, dtype = torch.long)\n",
        "        token_type_ids = data['token_type_ids'].to(device, dtype = torch.long)\n",
        "        targets = data['targets'].to(device, dtype = torch.long)\n",
        "\n",
        "        outputs = model(ids, mask, token_type_ids)\n",
        "        loss = loss_fn(outputs, targets)\n",
        "        tr_loss += loss.item()\n",
        "        big_val, big_idx = torch.max(outputs.data, dim=1)\n",
        "        n_correct += calcuate_accu(big_idx, targets)\n",
        "\n",
        "        nb_tr_steps += 1\n",
        "        nb_tr_examples+=targets.size(0)\n",
        "        \n",
        "        if _%5000==0:\n",
        "            loss_step = tr_loss/nb_tr_steps\n",
        "            accu_step = (n_correct*100)/nb_tr_examples \n",
        "            print(f\"Training Loss per 5000 steps: {loss_step}\")\n",
        "            print(f\"Training Accuracy per 5000 steps: {accu_step}\")\n",
        "\n",
        "        optimizer.zero_grad()\n",
        "        loss.backward()\n",
        "        # # When using GPU\n",
        "        optimizer.step()\n",
        "\n",
        "    print(f'The Total Accuracy for Epoch {epoch}: {(n_correct*100)/nb_tr_examples}')\n",
        "    epoch_loss = tr_loss/nb_tr_steps\n",
        "    epoch_accu = (n_correct*100)/nb_tr_examples\n",
        "    print(f\"Training Loss Epoch: {epoch_loss}\")\n",
        "    print(f\"Training Accuracy Epoch: {epoch_accu}\")\n",
        "\n",
        "    return "
      ],
      "metadata": {
        "execution": {
          "iopub.status.busy": "2022-07-12T10:48:44.520064Z",
          "iopub.execute_input": "2022-07-12T10:48:44.521038Z",
          "iopub.status.idle": "2022-07-12T10:48:44.538012Z",
          "shell.execute_reply.started": "2022-07-12T10:48:44.520981Z",
          "shell.execute_reply": "2022-07-12T10:48:44.537085Z"
        },
        "trusted": true,
        "id": "Fox139k8JKGu"
      },
      "execution_count": null,
      "outputs": []
    },
    {
      "cell_type": "code",
      "source": [
        "def train(epoch):\n",
        "    epoch_loss = 0\n",
        "    epoch_acc = 0\n",
        "    \n",
        "    model.train()\n",
        "    for _,data in tqdm(enumerate(training_loader, 0)):\n",
        "        ids = data['ids'].to(device, dtype = torch.long)\n",
        "        mask = data['mask'].to(device, dtype = torch.long)\n",
        "        token_type_ids = data['token_type_ids'].to(device, dtype = torch.long)\n",
        "        targets = data['targets'].to(device, dtype = torch.float)\n",
        "\n",
        "        outputs = model(ids, mask, token_type_ids)\n",
        "\n",
        "        optimizer.zero_grad()\n",
        "        loss = loss_fn(outputs, targets)\n",
        "        acc = val_hamming_loss(outputs, targets)\n",
        "        \n",
        "        if _%5000==0:\n",
        "            print(f'Epoch: {epoch}, Loss:  {loss.item()}')\n",
        "        \n",
        "        loss.backward()\n",
        "        optimizer.step()\n",
        "        \n",
        "        epoch_loss += loss\n",
        "        epoch_acc += acc"
      ],
      "metadata": {
        "execution": {
          "iopub.status.busy": "2022-07-12T10:49:10.826597Z",
          "iopub.execute_input": "2022-07-12T10:49:10.827074Z",
          "iopub.status.idle": "2022-07-12T10:49:10.838194Z",
          "shell.execute_reply.started": "2022-07-12T10:49:10.827032Z",
          "shell.execute_reply": "2022-07-12T10:49:10.836753Z"
        },
        "trusted": true,
        "id": "1Kg9yczyJKGu"
      },
      "execution_count": null,
      "outputs": []
    },
    {
      "cell_type": "code",
      "source": [
        "for epoch in range(EPOCHS):\n",
        "    train(epoch)\n",
        "    #train_loss, train_acc = train(epoch)\n",
        "    #valid_loss, valid_acc = evaluate_func(model, valid_iterator, criterion)\n",
        "    \n",
        "    #print(f'Epoch: {epoch+1:02}, Train Loss: {train_loss:.3f}, Train Acc: {train_acc*100:.2f}%') #' Val. Loss: {valid_loss:.3f}, Val. Acc: {valid_acc*100:.2f}%')"
      ],
      "metadata": {
        "execution": {
          "iopub.status.busy": "2022-07-12T11:03:29.599651Z",
          "iopub.execute_input": "2022-07-12T11:03:29.600538Z",
          "iopub.status.idle": "2022-07-12T11:03:31.017318Z",
          "shell.execute_reply.started": "2022-07-12T11:03:29.600501Z",
          "shell.execute_reply": "2022-07-12T11:03:31.015791Z"
        },
        "trusted": true,
        "id": "RtKtTxzcJKGv"
      },
      "execution_count": null,
      "outputs": []
    },
    {
      "cell_type": "code",
      "source": [
        "def validation(testing_loader):\n",
        "    model.eval()\n",
        "    fin_targets=[]\n",
        "    fin_outputs=[]\n",
        "    with torch.no_grad():\n",
        "        for _, data in tqdm(enumerate(testing_loader, 0)):\n",
        "            ids = data['ids'].to(device, dtype = torch.long)\n",
        "            mask = data['mask'].to(device, dtype = torch.long)\n",
        "            token_type_ids = data['token_type_ids'].to(device, dtype = torch.long)\n",
        "            targets = data['targets'].to(device, dtype = torch.float)\n",
        "            outputs = model(ids, mask, token_type_ids)\n",
        "            fin_targets.extend(targets.cpu().detach().numpy().tolist())\n",
        "            fin_outputs.extend(torch.sigmoid(outputs).cpu().detach().numpy().tolist())\n",
        "    return fin_outputs, fin_targets"
      ],
      "metadata": {
        "execution": {
          "iopub.status.busy": "2022-07-10T12:40:23.62371Z",
          "iopub.execute_input": "2022-07-10T12:40:23.624715Z",
          "iopub.status.idle": "2022-07-10T12:40:23.633681Z",
          "shell.execute_reply.started": "2022-07-10T12:40:23.624675Z",
          "shell.execute_reply": "2022-07-10T12:40:23.632741Z"
        },
        "trusted": true,
        "id": "-gMoP2qtJKGv"
      },
      "execution_count": null,
      "outputs": []
    },
    {
      "cell_type": "code",
      "source": [
        "outputs, targets = validation(testing_loader)\n",
        "\n",
        "final_outputs = np.array(outputs) >=0.5"
      ],
      "metadata": {
        "execution": {
          "iopub.status.busy": "2022-07-10T12:40:23.635195Z",
          "iopub.execute_input": "2022-07-10T12:40:23.635638Z",
          "iopub.status.idle": "2022-07-10T12:40:43.162088Z",
          "shell.execute_reply.started": "2022-07-10T12:40:23.63558Z",
          "shell.execute_reply": "2022-07-10T12:40:43.161001Z"
        },
        "trusted": true,
        "id": "q9fkvn4-JKGv"
      },
      "execution_count": null,
      "outputs": []
    },
    {
      "cell_type": "code",
      "source": [
        "val_hamming_loss = metrics.hamming_loss(targets, final_outputs)\n",
        "val_hamming_score = hamming_score(np.array(targets), np.array(final_outputs))\n",
        "f1_m = f1_score(targets, final_outputs, average='weighted', zero_division = 1)\n",
        "print(f\"Hamming Score = {val_hamming_score}\")\n",
        "print(f\"Hamming Loss = {val_hamming_loss}\")\n",
        "print(f'F_1 = {f1_m}')"
      ],
      "metadata": {
        "execution": {
          "iopub.status.busy": "2022-07-10T12:40:43.163745Z",
          "iopub.execute_input": "2022-07-10T12:40:43.164123Z",
          "iopub.status.idle": "2022-07-10T12:40:43.821479Z",
          "shell.execute_reply.started": "2022-07-10T12:40:43.164084Z",
          "shell.execute_reply": "2022-07-10T12:40:43.820081Z"
        },
        "trusted": true,
        "id": "tcuYHt81JKGw"
      },
      "execution_count": null,
      "outputs": []
    },
    {
      "cell_type": "code",
      "source": [
        "class DistilBERTClass(torch.nn.Module):\n",
        "    def __init__(self):\n",
        "        super(DistilBERTClass, self).__init__()\n",
        "        self.bert = bert\n",
        "        #self.l1 = DistilBertModel.from_pretrained(\"distilbert-base-uncased\")\n",
        "        \n",
        "        self.dropout = torch.nn.Dropout(0.2)\n",
        "        self.rnn = nn.GRU(312,\n",
        "                        256,\n",
        "                        num_layers=2,\n",
        "                        batch_first=True,\n",
        "                        dropout=0.1)\n",
        "        #self.relu =  nn.ReLU()\n",
        "        #self.pre_classifier = torch.nn.Linear(768, 768)\n",
        "        self.classifier = torch.nn.Linear(312, 50)\n",
        "\n",
        "    def forward(self, input_ids, attention_mask, token_type_ids):\n",
        "        output_1 = self.bert(input_ids=input_ids, attention_mask=attention_mask)\n",
        "        hidden_state = output_1[0]\n",
        "        pooler = hidden_state[:, 0]\n",
        "        #pooler = self.pre_classifier(pooler)\n",
        "        #pooler = self.relu(pooler)\n",
        "        #pooler = torch.nn.Tanh()(pooler)\n",
        "        pooler = self.dropout(pooler)\n",
        "        output = self.classifier(pooler)\n",
        "        return output\n",
        "\n",
        "model = DistilBERTClass()\n",
        "model.to(device)"
      ],
      "metadata": {
        "execution": {
          "iopub.status.busy": "2022-07-10T09:08:38.268156Z",
          "iopub.execute_input": "2022-07-10T09:08:38.268807Z",
          "iopub.status.idle": "2022-07-10T09:08:39.058269Z",
          "shell.execute_reply.started": "2022-07-10T09:08:38.268765Z",
          "shell.execute_reply": "2022-07-10T09:08:39.057356Z"
        },
        "trusted": true,
        "id": "cxFvKbdUJKGw"
      },
      "execution_count": null,
      "outputs": []
    },
    {
      "cell_type": "code",
      "source": [
        "def loss_fn(outputs, targets):\n",
        "    return torch.nn.BCEWithLogitsLoss()(outputs, targets)\n",
        "optimizer = torch.optim.AdamW(params =  model.parameters(), eps=1e-8, lr=LEARNING_RATE)"
      ],
      "metadata": {
        "execution": {
          "iopub.status.busy": "2022-07-10T09:08:39.059599Z",
          "iopub.execute_input": "2022-07-10T09:08:39.06068Z",
          "iopub.status.idle": "2022-07-10T09:08:39.066925Z",
          "shell.execute_reply.started": "2022-07-10T09:08:39.060641Z",
          "shell.execute_reply": "2022-07-10T09:08:39.065939Z"
        },
        "trusted": true,
        "id": "ilFFazQPJKGw"
      },
      "execution_count": null,
      "outputs": []
    },
    {
      "cell_type": "code",
      "source": [
        "for epoch in range(EPOCHS):\n",
        "    train(epoch)"
      ],
      "metadata": {
        "execution": {
          "iopub.status.busy": "2022-07-10T09:08:39.068314Z",
          "iopub.execute_input": "2022-07-10T09:08:39.068775Z",
          "iopub.status.idle": "2022-07-10T10:04:06.663318Z",
          "shell.execute_reply.started": "2022-07-10T09:08:39.068736Z",
          "shell.execute_reply": "2022-07-10T10:04:06.662284Z"
        },
        "trusted": true,
        "id": "Cz0c5vVlJKGw"
      },
      "execution_count": null,
      "outputs": []
    },
    {
      "cell_type": "code",
      "source": [
        "outputs, targets = validation(testing_loader)\n",
        "\n",
        "final_outputs = np.array(outputs) >=0.5"
      ],
      "metadata": {
        "execution": {
          "iopub.status.busy": "2022-07-10T12:40:44.643658Z",
          "iopub.execute_input": "2022-07-10T12:40:44.644268Z",
          "iopub.status.idle": "2022-07-10T12:40:52.504733Z",
          "shell.execute_reply.started": "2022-07-10T12:40:44.644212Z",
          "shell.execute_reply": "2022-07-10T12:40:52.503114Z"
        },
        "trusted": true,
        "id": "Tqa2JM8pJKGx"
      },
      "execution_count": null,
      "outputs": []
    },
    {
      "cell_type": "code",
      "source": [
        "val_hamming_loss = metrics.hamming_loss(targets, final_outputs)\n",
        "val_hamming_score = hamming_score(np.array(targets), np.array(final_outputs))\n",
        "f1_m = f1_score(targets, final_outputs, average='weighted', zero_division = 1)\n",
        "print(f\"Hamming Score = {val_hamming_score}\")\n",
        "print(f\"Hamming Loss = {val_hamming_loss}\")\n",
        "print(f'F_1 = {f1_m}')"
      ],
      "metadata": {
        "execution": {
          "iopub.status.busy": "2022-07-10T12:40:52.505851Z",
          "iopub.status.idle": "2022-07-10T12:40:52.506631Z",
          "shell.execute_reply.started": "2022-07-10T12:40:52.506328Z",
          "shell.execute_reply": "2022-07-10T12:40:52.506359Z"
        },
        "trusted": true,
        "id": "tOsFlpWBJKGx"
      },
      "execution_count": null,
      "outputs": []
    },
    {
      "cell_type": "code",
      "source": [
        "import torch\n",
        "import torch.nn as nn\n",
        "from transformers import AutoTokenizer, AutoModel\n",
        "\n",
        "MAX_LEN = 390\n",
        "TRAIN_BATCH_SIZE = 8\n",
        "VALID_BATCH_SIZE = 8\n",
        "EPOCHS = 10\n",
        "LEARNING_RATE = 1e-05\n",
        "\n",
        "#tokenizer = AutoTokenizer.from_pretrained(\"cointegrated/rubert-tiny\")\n",
        "tokenizer = AutoTokenizer.from_pretrained(\"DeepPavlov/rubert-base-cased-sentence\")\n",
        "#tokenizer = DistilBertTokenizer.from_pretrained('distilbert-base-uncased', truncation=True, do_lower_case=True)\n",
        "rubert = AutoModel.from_pretrained('DeepPavlov/rubert-base-cased-sentence')\n",
        "#bert = AutoModel.from_pretrained(\"cointegrated/rubert-tiny\")\n",
        "#distilbert = DistilBertModel.from_pretrained(\"distilbert-base-uncased\")"
      ],
      "metadata": {
        "execution": {
          "iopub.status.busy": "2022-07-10T12:40:52.508404Z",
          "iopub.status.idle": "2022-07-10T12:40:52.509198Z",
          "shell.execute_reply.started": "2022-07-10T12:40:52.508948Z",
          "shell.execute_reply": "2022-07-10T12:40:52.508972Z"
        },
        "trusted": true,
        "id": "M1FLMgCzJKGx"
      },
      "execution_count": null,
      "outputs": []
    },
    {
      "cell_type": "code",
      "source": [
        "from torch import cuda\n",
        "device = 'cuda' if cuda.is_available() else 'cpu'"
      ],
      "metadata": {
        "execution": {
          "iopub.status.busy": "2022-07-10T10:04:54.048086Z",
          "iopub.execute_input": "2022-07-10T10:04:54.050159Z",
          "iopub.status.idle": "2022-07-10T10:04:54.055251Z",
          "shell.execute_reply.started": "2022-07-10T10:04:54.050131Z",
          "shell.execute_reply": "2022-07-10T10:04:54.054435Z"
        },
        "trusted": true,
        "id": "C1JgpcjUJKGy"
      },
      "execution_count": null,
      "outputs": []
    },
    {
      "cell_type": "code",
      "source": [
        "class DistilBERTClass(torch.nn.Module):\n",
        "    def __init__(self):\n",
        "        super(DistilBERTClass, self).__init__()\n",
        "        self.bert = rubert\n",
        "        #self.distilbert = distilbert\n",
        "        #self.l1 = AutoModel.from_pretrained(\"cointegrated/rubert-tiny\")\n",
        "        self.pre_classifier = torch.nn.Linear(768, 768)\n",
        "        self.dropout = torch.nn.Dropout(0.1)\n",
        "        \n",
        "        self.relu = nn.ReLU()\n",
        "        #self.pre_classifier = torch.nn.Linear(312, 312)\n",
        "        self.classifier = torch.nn.Linear(768, 50)\n",
        "\n",
        "    def forward(self, input_ids, attention_mask, token_type_ids):\n",
        "        bert_output = self.bert(input_ids=input_ids, attention_mask=attention_mask)\n",
        "        last_hidden_state = bert_output.last_hidden_state[:, 0, :] # hidden_state = output_1[0]\n",
        "        #pooler = hidden_state[:, 0]\n",
        "        pooler = self.pre_classifier(last_hidden_state)\n",
        "        pooler = self.relu(pooler)\n",
        "        #pooler = torch.nn.Tanh()(pooler)\n",
        "        pooler = self.dropout(pooler)\n",
        "        output = self.classifier(pooler)\n",
        "        return output\n",
        "\n",
        "model = DistilBERTClass()\n",
        "model.to(device)"
      ],
      "metadata": {
        "execution": {
          "iopub.status.busy": "2022-07-10T10:04:54.057165Z",
          "iopub.execute_input": "2022-07-10T10:04:54.058029Z",
          "iopub.status.idle": "2022-07-10T10:04:55.57555Z",
          "shell.execute_reply.started": "2022-07-10T10:04:54.057993Z",
          "shell.execute_reply": "2022-07-10T10:04:55.574405Z"
        },
        "trusted": true,
        "id": "A1JZX5q1JKGy"
      },
      "execution_count": null,
      "outputs": []
    },
    {
      "cell_type": "code",
      "source": [
        "def loss_fn(outputs, targets):\n",
        "    return torch.nn.BCEWithLogitsLoss()(outputs, targets)\n",
        "optimizer = torch.optim.AdamW(params =  model.parameters(), eps=1e-8, lr=LEARNING_RATE)"
      ],
      "metadata": {
        "execution": {
          "iopub.status.busy": "2022-07-10T10:04:55.577004Z",
          "iopub.execute_input": "2022-07-10T10:04:55.577587Z",
          "iopub.status.idle": "2022-07-10T10:04:55.585306Z",
          "shell.execute_reply.started": "2022-07-10T10:04:55.57755Z",
          "shell.execute_reply": "2022-07-10T10:04:55.584311Z"
        },
        "trusted": true,
        "id": "ooO_ZZRoJKGy"
      },
      "execution_count": null,
      "outputs": []
    },
    {
      "cell_type": "code",
      "source": [
        "for epoch in range(EPOCHS):\n",
        "    train(epoch)"
      ],
      "metadata": {
        "execution": {
          "iopub.status.busy": "2022-07-10T10:04:55.586754Z",
          "iopub.execute_input": "2022-07-10T10:04:55.587193Z",
          "iopub.status.idle": "2022-07-10T10:18:46.544776Z",
          "shell.execute_reply.started": "2022-07-10T10:04:55.587156Z",
          "shell.execute_reply": "2022-07-10T10:18:46.543325Z"
        },
        "trusted": true,
        "id": "ISyHMK8gJKGz"
      },
      "execution_count": null,
      "outputs": []
    },
    {
      "cell_type": "code",
      "source": [
        "outputs, targets = validation(testing_loader)\n",
        "\n",
        "final_outputs = np.array(outputs) >=0.5"
      ],
      "metadata": {
        "id": "qccTJ2djJKGz"
      },
      "execution_count": null,
      "outputs": []
    },
    {
      "cell_type": "code",
      "source": [
        "val_hamming_loss = metrics.hamming_loss(targets, final_outputs)\n",
        "val_hamming_score = hamming_score(np.array(targets), np.array(final_outputs))\n",
        "f1_m = f1_score(targets, final_outputs, average='weighted', zero_division = 1)\n",
        "print(f\"Hamming Score = {val_hamming_score}\")\n",
        "print(f\"Hamming Loss = {val_hamming_loss}\")\n",
        "print(f'F_1 = {f1_m}')"
      ],
      "metadata": {
        "id": "nDB8qO6wJKGz"
      },
      "execution_count": null,
      "outputs": []
    },
    {
      "cell_type": "code",
      "source": [
        "class BertClassifier(nn.Module):\n",
        "    \"\"\"Bert Model for Classification Tasks.\n",
        "    \"\"\"\n",
        "    def __init__(self, freeze_bert=False):\n",
        "        \"\"\"\n",
        "        @param    bert: a BertModel object\n",
        "        @param    classifier: a torch.nn.Module classifier\n",
        "        @param    freeze_bert (bool): Set `False` to fine-tune the BERT model\n",
        "        \"\"\"\n",
        "        super(BertClassifier, self).__init__()\n",
        "        # Specify hidden size of BERT, hidden size of our classifier, and number of labels\n",
        "        D_in, H, D_out = 768, 50, 2\n",
        "\n",
        "        # Instantiate BERT model\n",
        "        self.bert = BertModel.from_pretrained('bert-base-uncased')\n",
        "\n",
        "        # Instantiate an one-layer feed-forward classifier\n",
        "        self.classifier = nn.Sequential(\n",
        "            nn.Linear(D_in, H),\n",
        "            nn.ReLU(),\n",
        "            #nn.Dropout(0.5),\n",
        "            nn.Linear(H, D_out)\n",
        "        )\n",
        "\n",
        "        # Freeze the BERT model\n",
        "        if freeze_bert:\n",
        "            for param in self.bert.parameters():\n",
        "                param.requires_grad = False\n",
        "        \n",
        "    def forward(self, input_ids, attention_mask):\n",
        "        \"\"\"\n",
        "        Feed input to BERT and the classifier to compute logits.\n",
        "        @param    input_ids (torch.Tensor): an input tensor with shape (batch_size,\n",
        "                      max_length)\n",
        "        @param    attention_mask (torch.Tensor): a tensor that hold attention mask\n",
        "                      information with shape (batch_size, max_length)\n",
        "        @return   logits (torch.Tensor): an output tensor with shape (batch_size,\n",
        "                      num_labels)\n",
        "        \"\"\"\n",
        "        # Feed input to BERT\n",
        "        outputs = self.bert(input_ids=input_ids,\n",
        "                            attention_mask=attention_mask)\n",
        "        \n",
        "        # Extract the last hidden state of the token `[CLS]` for classification task\n",
        "        last_hidden_state_cls = outputs[0][:, 0, :]\n",
        "\n",
        "        # Feed input to classifier to compute logits\n",
        "        logits = self.classifier(last_hidden_state_cls)\n",
        "\n",
        "        return logits"
      ],
      "metadata": {
        "id": "c3p7OY56JKG0"
      },
      "execution_count": null,
      "outputs": []
    },
    {
      "cell_type": "markdown",
      "source": [
        "_____________________________________________________________________________________"
      ],
      "metadata": {
        "id": "cuaZEJp5JKG0"
      }
    },
    {
      "cell_type": "code",
      "source": [
        "from transformers import T5ForConditionalGeneration, T5Tokenizer\n",
        "MODEL_NAME = 'cointegrated/rut5-base-paraphraser'\n",
        "bert = T5ForConditionalGeneration.from_pretrained(MODEL_NAME)\n",
        "tokenizer = T5Tokenizer.from_pretrained(MODEL_NAME)\n",
        "bert.cuda();\n",
        "bert.eval();\n",
        "\n",
        "def paraphrase(text, beams=5, grams=4, do_sample=False):\n",
        "    x = tokenizer(text, return_tensors='pt', padding=True).to(model.device)\n",
        "    max_size = int(x.input_ids.shape[1] * 1.5 + 10)\n",
        "    out = model.generate(**x, encoder_no_repeat_ngram_size=grams, num_beams=beams, max_length=max_size, do_sample=do_sample)\n",
        "    return tokenizer.decode(out[0], skip_special_tokens=True)"
      ],
      "metadata": {
        "execution": {
          "iopub.status.busy": "2022-07-12T11:18:11.697441Z",
          "iopub.execute_input": "2022-07-12T11:18:11.698085Z",
          "iopub.status.idle": "2022-07-12T11:18:27.048176Z",
          "shell.execute_reply.started": "2022-07-12T11:18:11.698035Z",
          "shell.execute_reply": "2022-07-12T11:18:27.045701Z"
        },
        "trusted": true,
        "id": "KMwiWYkpJKG0"
      },
      "execution_count": null,
      "outputs": []
    },
    {
      "cell_type": "code",
      "source": [
        "print(paraphrase('Каждый охотник желает знать, где сидит фазан.'))"
      ],
      "metadata": {
        "execution": {
          "iopub.status.busy": "2022-07-08T23:31:10.628295Z",
          "iopub.execute_input": "2022-07-08T23:31:10.63132Z",
          "iopub.status.idle": "2022-07-08T23:31:10.681295Z",
          "shell.execute_reply.started": "2022-07-08T23:31:10.631278Z",
          "shell.execute_reply": "2022-07-08T23:31:10.679791Z"
        },
        "trusted": true,
        "id": "-ONUjh2eJKG1"
      },
      "execution_count": null,
      "outputs": []
    },
    {
      "cell_type": "code",
      "source": [
        "!git clone https://github.com/blanchefort/rutau.git\n",
        "!pip install -r requirements.txt"
      ],
      "metadata": {
        "execution": {
          "iopub.status.busy": "2022-07-12T11:19:01.291685Z",
          "iopub.execute_input": "2022-07-12T11:19:01.292498Z",
          "iopub.status.idle": "2022-07-12T11:19:05.538068Z",
          "shell.execute_reply.started": "2022-07-12T11:19:01.292443Z",
          "shell.execute_reply": "2022-07-12T11:19:05.536794Z"
        },
        "trusted": true,
        "id": "_GfVZ5i-JKG1"
      },
      "execution_count": null,
      "outputs": []
    },
    {
      "cell_type": "code",
      "source": [
        "!pip install nlpaug"
      ],
      "metadata": {
        "execution": {
          "iopub.status.busy": "2022-07-12T11:40:03.144767Z",
          "iopub.execute_input": "2022-07-12T11:40:03.146029Z",
          "iopub.status.idle": "2022-07-12T11:40:32.036591Z",
          "shell.execute_reply.started": "2022-07-12T11:40:03.145969Z",
          "shell.execute_reply": "2022-07-12T11:40:32.034965Z"
        },
        "trusted": true,
        "id": "UU1eyDrqJKG1"
      },
      "execution_count": null,
      "outputs": []
    },
    {
      "cell_type": "code",
      "source": [
        "import os\n",
        "os.environ[\"TOKENIZERS_PARALLELISM\"] = \"false\""
      ],
      "metadata": {
        "execution": {
          "iopub.status.busy": "2022-07-12T11:45:09.410045Z",
          "iopub.execute_input": "2022-07-12T11:45:09.410906Z",
          "iopub.status.idle": "2022-07-12T11:45:09.417030Z",
          "shell.execute_reply.started": "2022-07-12T11:45:09.410842Z",
          "shell.execute_reply": "2022-07-12T11:45:09.415862Z"
        },
        "trusted": true,
        "id": "7SyrburmJKG2"
      },
      "execution_count": null,
      "outputs": []
    },
    {
      "cell_type": "code",
      "source": [
        "import nlpaug.augmenter.word as naw\n",
        "\n",
        "text = 'Россиянка Мария Бутина, судимая в США по обвинению в участии в заговоре с целью ведения деятельности в пользу иностранного государства, может стать фигурантом еще одного дела. Об этом сообщает Daily Beast. Издание обратило внимание на запрос федеральной прокуратуры в Вашингтоне, который опубликовал в Twitter журналист Спенсер Хсу. Данная бумага находилась в закрытых судебных документах. Прокуратура просит разрешение транспортировать Бутину из тюрьмы для дачи показаний по вероятному уголовному расследованию, детали которого не уточняются. Перевозку россиянки планируется осуществить тайно, в том числе и в целях безопасности самой ответчицы. 13 декабря Мария Бутина в суде призналась в работе иностранным агентом под руководством российского государственного чиновника без согласования с Генпрокуратурой США. Она пошла на сделку со следствием и признала вину по некоторым пунктам обвинения. Следующее слушание по делу назначено на 12 февраля. Бутина была задержана в США 15 июля. Американская сторона заявляет, что она пыталась повлиять на главных спонсоров Республиканской партии для продвижения российских интересов. Кремль считает все обвинения со стороны США в адрес россиянки необоснованными, а в МИД заявили, что ее подвергали пыткам в тюрьме.'\n",
        "back_translation_aug = naw.BackTranslationAug(\n",
        "    from_model_name='facebook/wmt19-ru-en',\n",
        "    to_model_name='facebook/wmt19-en-ru')\n",
        "back_translation_aug.augment(text)"
      ],
      "metadata": {
        "execution": {
          "iopub.status.busy": "2022-07-12T11:46:27.093455Z",
          "iopub.execute_input": "2022-07-12T11:46:27.094452Z",
          "iopub.status.idle": "2022-07-12T11:48:36.979416Z",
          "shell.execute_reply.started": "2022-07-12T11:46:27.094376Z",
          "shell.execute_reply": "2022-07-12T11:48:36.977928Z"
        },
        "trusted": true,
        "id": "42wiaZaRJKG2"
      },
      "execution_count": null,
      "outputs": []
    },
    {
      "cell_type": "code",
      "source": [
        ""
      ],
      "metadata": {
        "id": "NcGttCIXJKG2"
      },
      "execution_count": null,
      "outputs": []
    }
  ]
}